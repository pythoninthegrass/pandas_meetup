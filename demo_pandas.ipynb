{
 "cells": [
  {
   "cell_type": "code",
   "execution_count": null,
   "metadata": {},
   "outputs": [],
   "source": [
    "import matplotlib.pyplot as plt\n",
    "import pandas as pd\n",
    "# from printecream import print\n",
    "from pathlib import Path\n",
    "\n",
    "# determine the path to the data file\n",
    "csv_path = Path(\"csv\")\n",
    "filename = \"dataset-of-10s.csv\"\n",
    "abs_path = csv_path / filename"
   ]
  },
  {
   "cell_type": "code",
   "execution_count": null,
   "metadata": {},
   "outputs": [],
   "source": [
    "# read data from csv\n",
    "df = pd.read_csv(abs_path)\n",
    "print(type(df))\n",
    "print(df.shape)\n",
    "print(df.head(10))"
   ]
  },
  {
   "cell_type": "code",
   "execution_count": null,
   "metadata": {},
   "outputs": [],
   "source": [
    "# rename duration_ms to duration_min\n",
    "df.rename(columns={\"duration_ms\": \"duration_min\"}, inplace=True)\n",
    "\n",
    "# convert column duration_ms to duration_min\n",
    "df[\"duration_min\"] = df[\"duration_min\"] / 60000\n",
    "\n",
    "# round duration_min to 2 decimal places\n",
    "df[\"duration_min\"] = df[\"duration_min\"].round(2)\n",
    "print(df.head(5))"
   ]
  },
  {
   "cell_type": "code",
   "execution_count": null,
   "metadata": {},
   "outputs": [],
   "source": [
    "# find isna values\n",
    "print(df.isna().sum())\n",
    "\n",
    "# fill na values\n",
    "df.fillna(0, inplace=True)\n",
    "print(df.isna().sum())\n",
    "\n",
    "# drop na values\n",
    "df.dropna(inplace=True)\n",
    "print(df.isna().sum())"
   ]
  },
  {
   "cell_type": "code",
   "execution_count": null,
   "metadata": {},
   "outputs": [],
   "source": [
    "# loc and iloc\n",
    "print(df.loc[0:5, \"duration_min\"])\n",
    "print(df.iloc[0:5, 0:2])"
   ]
  },
  {
   "cell_type": "code",
   "execution_count": null,
   "metadata": {},
   "outputs": [],
   "source": [
    "# select artist, group by track, artist, danceability, and loudness\n",
    "df_grouped = df[(df[\"artist\"] == \"Katy Perry\") & (df[\"danceability\"] > 0.5)].groupby(\n",
    "    [\"track\", \"artist\", \"danceability\", \"loudness\"],\n",
    "    sort=False\n",
    ")"
   ]
  },
  {
   "cell_type": "code",
   "execution_count": null,
   "metadata": {},
   "outputs": [],
   "source": [
    "# unique artists (return last 10)\n",
    "print(df[\"artist\"].unique()[-10:])"
   ]
  },
  {
   "cell_type": "code",
   "execution_count": null,
   "metadata": {},
   "outputs": [],
   "source": [
    "%matplotlib inline"
   ]
  },
  {
   "cell_type": "code",
   "execution_count": null,
   "metadata": {},
   "outputs": [],
   "source": [
    "# TODO: fix this janky bonus code ¯\\_(ツ)_/¯\n",
    "\n",
    "# plot grouped data selecting track, danceability, and loudness\n",
    "# df_grouped[[\"track\", \"danceability\", \"loudness\"]].plot()\n",
    "\n",
    "# plot grouped data selecting track, danceability, and loudness\n",
    "df_grouped[[\"danceability\", \"loudness\"]].plot()"
   ]
  }
 ],
 "metadata": {
  "kernelspec": {
   "display_name": "Python 3.10.7 ('.venv': poetry)",
   "language": "python",
   "name": "python3"
  },
  "language_info": {
   "codemirror_mode": {
    "name": "ipython",
    "version": 3
   },
   "file_extension": ".py",
   "mimetype": "text/x-python",
   "name": "python",
   "nbconvert_exporter": "python",
   "pygments_lexer": "ipython3",
   "version": "3.10.7"
  },
  "orig_nbformat": 4,
  "vscode": {
   "interpreter": {
    "hash": "91e83fc76dfa4584dfb39642161ded55443b31c016965768db7cc96f9d1117c2"
   }
  }
 },
 "nbformat": 4,
 "nbformat_minor": 2
}
