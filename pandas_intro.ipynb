{
 "cells": [
  {
   "cell_type": "markdown",
   "metadata": {},
   "source": [
    "# Explore Your Dataset With Python and Pandas"
   ]
  },
  {
   "cell_type": "markdown",
   "metadata": {},
   "source": [
    "## Environment Setup"
   ]
  },
  {
   "cell_type": "markdown",
   "metadata": {},
   "source": [
    "### Prerequisites"
   ]
  },
  {
   "cell_type": "markdown",
   "metadata": {},
   "source": [
    "### Installing Dependencies"
   ]
  },
  {
   "cell_type": "markdown",
   "metadata": {},
   "source": [
    "```console\n",
    "$ python3 -m pip install requests pandas matplotlib\n",
    "```"
   ]
  },
  {
   "cell_type": "markdown",
   "metadata": {},
   "source": [
    "```console\n",
    "$ conda install requests pandas matplotlib\n",
    "```"
   ]
  },
  {
   "cell_type": "markdown",
   "metadata": {},
   "source": [
    "### Hello Pandas"
   ]
  },
  {
   "cell_type": "code",
   "execution_count": 1,
   "metadata": {},
   "outputs": [
    {
     "name": "stdout",
     "output_type": "stream",
     "text": [
      "Download ready.\n"
     ]
    }
   ],
   "source": [
    "import requests\n",
    "from pathlib import Path\n",
    "\n",
    "download_url = \"https://raw.githubusercontent.com/fivethirtyeight/data/master/nba-elo/nbaallelo.csv\"\n",
    "filename = download_url.split(\"/\")[-1]\n",
    "csv_path = Path(\"csv\")\n",
    "abs_path = csv_path / filename\n",
    "\n",
    "response = requests.get(download_url)\n",
    "response.raise_for_status()\n",
    "with open(abs_path, \"wb\") as f:\n",
    "    f.write(response.content)\n",
    "print(\"Download ready.\")"
   ]
  },
  {
   "cell_type": "code",
   "execution_count": 2,
   "metadata": {},
   "outputs": [
    {
     "data": {
      "text/plain": [
       "pandas.core.frame.DataFrame"
      ]
     },
     "execution_count": 2,
     "metadata": {},
     "output_type": "execute_result"
    }
   ],
   "source": [
    "import pandas as pd\n",
    "\n",
    "nba = pd.read_csv(abs_path)\n",
    "type(nba)\n",
    "# Expected:\n",
    "# <class 'pandas.core.frame.DataFrame'>"
   ]
  },
  {
   "cell_type": "code",
   "execution_count": 3,
   "metadata": {},
   "outputs": [
    {
     "data": {
      "text/plain": [
       "126314"
      ]
     },
     "execution_count": 3,
     "metadata": {},
     "output_type": "execute_result"
    }
   ],
   "source": [
    "len(nba)\n",
    "# Expected:\n",
    "# 126314"
   ]
  },
  {
   "cell_type": "code",
   "execution_count": 4,
   "metadata": {},
   "outputs": [
    {
     "data": {
      "text/plain": [
       "(126314, 23)"
      ]
     },
     "execution_count": 4,
     "metadata": {},
     "output_type": "execute_result"
    }
   ],
   "source": [
    "nba.shape\n",
    "# Expected:\n",
    "# (126314, 23)"
   ]
  },
  {
   "cell_type": "code",
   "execution_count": 5,
   "metadata": {},
   "outputs": [
    {
     "data": {
      "text/html": [
       "<div>\n",
       "<style scoped>\n",
       "    .dataframe tbody tr th:only-of-type {\n",
       "        vertical-align: middle;\n",
       "    }\n",
       "\n",
       "    .dataframe tbody tr th {\n",
       "        vertical-align: top;\n",
       "    }\n",
       "\n",
       "    .dataframe thead th {\n",
       "        text-align: right;\n",
       "    }\n",
       "</style>\n",
       "<table border=\"1\" class=\"dataframe\">\n",
       "  <thead>\n",
       "    <tr style=\"text-align: right;\">\n",
       "      <th></th>\n",
       "      <th>gameorder</th>\n",
       "      <th>game_id</th>\n",
       "      <th>lg_id</th>\n",
       "      <th>_iscopy</th>\n",
       "      <th>year_id</th>\n",
       "      <th>date_game</th>\n",
       "      <th>seasongame</th>\n",
       "      <th>is_playoffs</th>\n",
       "      <th>team_id</th>\n",
       "      <th>fran_id</th>\n",
       "      <th>...</th>\n",
       "      <th>win_equiv</th>\n",
       "      <th>opp_id</th>\n",
       "      <th>opp_fran</th>\n",
       "      <th>opp_pts</th>\n",
       "      <th>opp_elo_i</th>\n",
       "      <th>opp_elo_n</th>\n",
       "      <th>game_location</th>\n",
       "      <th>game_result</th>\n",
       "      <th>forecast</th>\n",
       "      <th>notes</th>\n",
       "    </tr>\n",
       "  </thead>\n",
       "  <tbody>\n",
       "    <tr>\n",
       "      <th>0</th>\n",
       "      <td>1</td>\n",
       "      <td>194611010TRH</td>\n",
       "      <td>NBA</td>\n",
       "      <td>0</td>\n",
       "      <td>1947</td>\n",
       "      <td>11/1/1946</td>\n",
       "      <td>1</td>\n",
       "      <td>0</td>\n",
       "      <td>TRH</td>\n",
       "      <td>Huskies</td>\n",
       "      <td>...</td>\n",
       "      <td>40.294830</td>\n",
       "      <td>NYK</td>\n",
       "      <td>Knicks</td>\n",
       "      <td>68</td>\n",
       "      <td>1300.0000</td>\n",
       "      <td>1306.7233</td>\n",
       "      <td>H</td>\n",
       "      <td>L</td>\n",
       "      <td>0.640065</td>\n",
       "      <td>NaN</td>\n",
       "    </tr>\n",
       "    <tr>\n",
       "      <th>1</th>\n",
       "      <td>1</td>\n",
       "      <td>194611010TRH</td>\n",
       "      <td>NBA</td>\n",
       "      <td>1</td>\n",
       "      <td>1947</td>\n",
       "      <td>11/1/1946</td>\n",
       "      <td>1</td>\n",
       "      <td>0</td>\n",
       "      <td>NYK</td>\n",
       "      <td>Knicks</td>\n",
       "      <td>...</td>\n",
       "      <td>41.705170</td>\n",
       "      <td>TRH</td>\n",
       "      <td>Huskies</td>\n",
       "      <td>66</td>\n",
       "      <td>1300.0000</td>\n",
       "      <td>1293.2767</td>\n",
       "      <td>A</td>\n",
       "      <td>W</td>\n",
       "      <td>0.359935</td>\n",
       "      <td>NaN</td>\n",
       "    </tr>\n",
       "    <tr>\n",
       "      <th>2</th>\n",
       "      <td>2</td>\n",
       "      <td>194611020CHS</td>\n",
       "      <td>NBA</td>\n",
       "      <td>0</td>\n",
       "      <td>1947</td>\n",
       "      <td>11/2/1946</td>\n",
       "      <td>1</td>\n",
       "      <td>0</td>\n",
       "      <td>CHS</td>\n",
       "      <td>Stags</td>\n",
       "      <td>...</td>\n",
       "      <td>42.012257</td>\n",
       "      <td>NYK</td>\n",
       "      <td>Knicks</td>\n",
       "      <td>47</td>\n",
       "      <td>1306.7233</td>\n",
       "      <td>1297.0712</td>\n",
       "      <td>H</td>\n",
       "      <td>W</td>\n",
       "      <td>0.631101</td>\n",
       "      <td>NaN</td>\n",
       "    </tr>\n",
       "    <tr>\n",
       "      <th>3</th>\n",
       "      <td>2</td>\n",
       "      <td>194611020CHS</td>\n",
       "      <td>NBA</td>\n",
       "      <td>1</td>\n",
       "      <td>1947</td>\n",
       "      <td>11/2/1946</td>\n",
       "      <td>2</td>\n",
       "      <td>0</td>\n",
       "      <td>NYK</td>\n",
       "      <td>Knicks</td>\n",
       "      <td>...</td>\n",
       "      <td>40.692783</td>\n",
       "      <td>CHS</td>\n",
       "      <td>Stags</td>\n",
       "      <td>63</td>\n",
       "      <td>1300.0000</td>\n",
       "      <td>1309.6521</td>\n",
       "      <td>A</td>\n",
       "      <td>L</td>\n",
       "      <td>0.368899</td>\n",
       "      <td>NaN</td>\n",
       "    </tr>\n",
       "    <tr>\n",
       "      <th>4</th>\n",
       "      <td>3</td>\n",
       "      <td>194611020DTF</td>\n",
       "      <td>NBA</td>\n",
       "      <td>0</td>\n",
       "      <td>1947</td>\n",
       "      <td>11/2/1946</td>\n",
       "      <td>1</td>\n",
       "      <td>0</td>\n",
       "      <td>DTF</td>\n",
       "      <td>Falcons</td>\n",
       "      <td>...</td>\n",
       "      <td>38.864048</td>\n",
       "      <td>WSC</td>\n",
       "      <td>Capitols</td>\n",
       "      <td>50</td>\n",
       "      <td>1300.0000</td>\n",
       "      <td>1320.3811</td>\n",
       "      <td>H</td>\n",
       "      <td>L</td>\n",
       "      <td>0.640065</td>\n",
       "      <td>NaN</td>\n",
       "    </tr>\n",
       "  </tbody>\n",
       "</table>\n",
       "<p>5 rows × 23 columns</p>\n",
       "</div>"
      ],
      "text/plain": [
       "   gameorder       game_id lg_id  _iscopy  year_id  date_game  seasongame  \\\n",
       "0          1  194611010TRH   NBA        0     1947  11/1/1946           1   \n",
       "1          1  194611010TRH   NBA        1     1947  11/1/1946           1   \n",
       "2          2  194611020CHS   NBA        0     1947  11/2/1946           1   \n",
       "3          2  194611020CHS   NBA        1     1947  11/2/1946           2   \n",
       "4          3  194611020DTF   NBA        0     1947  11/2/1946           1   \n",
       "\n",
       "   is_playoffs team_id  fran_id  ...  win_equiv  opp_id  opp_fran  opp_pts  \\\n",
       "0            0     TRH  Huskies  ...  40.294830     NYK    Knicks       68   \n",
       "1            0     NYK   Knicks  ...  41.705170     TRH   Huskies       66   \n",
       "2            0     CHS    Stags  ...  42.012257     NYK    Knicks       47   \n",
       "3            0     NYK   Knicks  ...  40.692783     CHS     Stags       63   \n",
       "4            0     DTF  Falcons  ...  38.864048     WSC  Capitols       50   \n",
       "\n",
       "   opp_elo_i  opp_elo_n  game_location  game_result  forecast notes  \n",
       "0  1300.0000  1306.7233              H            L  0.640065   NaN  \n",
       "1  1300.0000  1293.2767              A            W  0.359935   NaN  \n",
       "2  1306.7233  1297.0712              H            W  0.631101   NaN  \n",
       "3  1300.0000  1309.6521              A            L  0.368899   NaN  \n",
       "4  1300.0000  1320.3811              H            L  0.640065   NaN  \n",
       "\n",
       "[5 rows x 23 columns]"
      ]
     },
     "execution_count": 5,
     "metadata": {},
     "output_type": "execute_result"
    }
   ],
   "source": [
    "nba.head()"
   ]
  },
  {
   "cell_type": "code",
   "execution_count": 6,
   "metadata": {},
   "outputs": [],
   "source": [
    "pd.set_option(\"display.max.columns\", None)"
   ]
  },
  {
   "cell_type": "code",
   "execution_count": 7,
   "metadata": {},
   "outputs": [],
   "source": [
    "pd.set_option(\"display.precision\", 2)"
   ]
  },
  {
   "cell_type": "code",
   "execution_count": 8,
   "metadata": {},
   "outputs": [
    {
     "data": {
      "text/html": [
       "<div>\n",
       "<style scoped>\n",
       "    .dataframe tbody tr th:only-of-type {\n",
       "        vertical-align: middle;\n",
       "    }\n",
       "\n",
       "    .dataframe tbody tr th {\n",
       "        vertical-align: top;\n",
       "    }\n",
       "\n",
       "    .dataframe thead th {\n",
       "        text-align: right;\n",
       "    }\n",
       "</style>\n",
       "<table border=\"1\" class=\"dataframe\">\n",
       "  <thead>\n",
       "    <tr style=\"text-align: right;\">\n",
       "      <th></th>\n",
       "      <th>gameorder</th>\n",
       "      <th>game_id</th>\n",
       "      <th>lg_id</th>\n",
       "      <th>_iscopy</th>\n",
       "      <th>year_id</th>\n",
       "      <th>date_game</th>\n",
       "      <th>seasongame</th>\n",
       "      <th>is_playoffs</th>\n",
       "      <th>team_id</th>\n",
       "      <th>fran_id</th>\n",
       "      <th>pts</th>\n",
       "      <th>elo_i</th>\n",
       "      <th>elo_n</th>\n",
       "      <th>win_equiv</th>\n",
       "      <th>opp_id</th>\n",
       "      <th>opp_fran</th>\n",
       "      <th>opp_pts</th>\n",
       "      <th>opp_elo_i</th>\n",
       "      <th>opp_elo_n</th>\n",
       "      <th>game_location</th>\n",
       "      <th>game_result</th>\n",
       "      <th>forecast</th>\n",
       "      <th>notes</th>\n",
       "    </tr>\n",
       "  </thead>\n",
       "  <tbody>\n",
       "    <tr>\n",
       "      <th>126309</th>\n",
       "      <td>63155</td>\n",
       "      <td>201506110CLE</td>\n",
       "      <td>NBA</td>\n",
       "      <td>0</td>\n",
       "      <td>2015</td>\n",
       "      <td>6/11/2015</td>\n",
       "      <td>100</td>\n",
       "      <td>1</td>\n",
       "      <td>CLE</td>\n",
       "      <td>Cavaliers</td>\n",
       "      <td>82</td>\n",
       "      <td>1723.41</td>\n",
       "      <td>1704.39</td>\n",
       "      <td>60.31</td>\n",
       "      <td>GSW</td>\n",
       "      <td>Warriors</td>\n",
       "      <td>103</td>\n",
       "      <td>1790.96</td>\n",
       "      <td>1809.98</td>\n",
       "      <td>H</td>\n",
       "      <td>L</td>\n",
       "      <td>0.55</td>\n",
       "      <td>NaN</td>\n",
       "    </tr>\n",
       "    <tr>\n",
       "      <th>126310</th>\n",
       "      <td>63156</td>\n",
       "      <td>201506140GSW</td>\n",
       "      <td>NBA</td>\n",
       "      <td>0</td>\n",
       "      <td>2015</td>\n",
       "      <td>6/14/2015</td>\n",
       "      <td>102</td>\n",
       "      <td>1</td>\n",
       "      <td>GSW</td>\n",
       "      <td>Warriors</td>\n",
       "      <td>104</td>\n",
       "      <td>1809.98</td>\n",
       "      <td>1813.63</td>\n",
       "      <td>68.01</td>\n",
       "      <td>CLE</td>\n",
       "      <td>Cavaliers</td>\n",
       "      <td>91</td>\n",
       "      <td>1704.39</td>\n",
       "      <td>1700.74</td>\n",
       "      <td>H</td>\n",
       "      <td>W</td>\n",
       "      <td>0.77</td>\n",
       "      <td>NaN</td>\n",
       "    </tr>\n",
       "    <tr>\n",
       "      <th>126311</th>\n",
       "      <td>63156</td>\n",
       "      <td>201506140GSW</td>\n",
       "      <td>NBA</td>\n",
       "      <td>1</td>\n",
       "      <td>2015</td>\n",
       "      <td>6/14/2015</td>\n",
       "      <td>101</td>\n",
       "      <td>1</td>\n",
       "      <td>CLE</td>\n",
       "      <td>Cavaliers</td>\n",
       "      <td>91</td>\n",
       "      <td>1704.39</td>\n",
       "      <td>1700.74</td>\n",
       "      <td>60.01</td>\n",
       "      <td>GSW</td>\n",
       "      <td>Warriors</td>\n",
       "      <td>104</td>\n",
       "      <td>1809.98</td>\n",
       "      <td>1813.63</td>\n",
       "      <td>A</td>\n",
       "      <td>L</td>\n",
       "      <td>0.23</td>\n",
       "      <td>NaN</td>\n",
       "    </tr>\n",
       "    <tr>\n",
       "      <th>126312</th>\n",
       "      <td>63157</td>\n",
       "      <td>201506170CLE</td>\n",
       "      <td>NBA</td>\n",
       "      <td>0</td>\n",
       "      <td>2015</td>\n",
       "      <td>6/16/2015</td>\n",
       "      <td>102</td>\n",
       "      <td>1</td>\n",
       "      <td>CLE</td>\n",
       "      <td>Cavaliers</td>\n",
       "      <td>97</td>\n",
       "      <td>1700.74</td>\n",
       "      <td>1692.09</td>\n",
       "      <td>59.29</td>\n",
       "      <td>GSW</td>\n",
       "      <td>Warriors</td>\n",
       "      <td>105</td>\n",
       "      <td>1813.63</td>\n",
       "      <td>1822.29</td>\n",
       "      <td>H</td>\n",
       "      <td>L</td>\n",
       "      <td>0.48</td>\n",
       "      <td>NaN</td>\n",
       "    </tr>\n",
       "    <tr>\n",
       "      <th>126313</th>\n",
       "      <td>63157</td>\n",
       "      <td>201506170CLE</td>\n",
       "      <td>NBA</td>\n",
       "      <td>1</td>\n",
       "      <td>2015</td>\n",
       "      <td>6/16/2015</td>\n",
       "      <td>103</td>\n",
       "      <td>1</td>\n",
       "      <td>GSW</td>\n",
       "      <td>Warriors</td>\n",
       "      <td>105</td>\n",
       "      <td>1813.63</td>\n",
       "      <td>1822.29</td>\n",
       "      <td>68.52</td>\n",
       "      <td>CLE</td>\n",
       "      <td>Cavaliers</td>\n",
       "      <td>97</td>\n",
       "      <td>1700.74</td>\n",
       "      <td>1692.09</td>\n",
       "      <td>A</td>\n",
       "      <td>W</td>\n",
       "      <td>0.52</td>\n",
       "      <td>NaN</td>\n",
       "    </tr>\n",
       "  </tbody>\n",
       "</table>\n",
       "</div>"
      ],
      "text/plain": [
       "        gameorder       game_id lg_id  _iscopy  year_id  date_game  \\\n",
       "126309      63155  201506110CLE   NBA        0     2015  6/11/2015   \n",
       "126310      63156  201506140GSW   NBA        0     2015  6/14/2015   \n",
       "126311      63156  201506140GSW   NBA        1     2015  6/14/2015   \n",
       "126312      63157  201506170CLE   NBA        0     2015  6/16/2015   \n",
       "126313      63157  201506170CLE   NBA        1     2015  6/16/2015   \n",
       "\n",
       "        seasongame  is_playoffs team_id    fran_id  pts    elo_i    elo_n  \\\n",
       "126309         100            1     CLE  Cavaliers   82  1723.41  1704.39   \n",
       "126310         102            1     GSW   Warriors  104  1809.98  1813.63   \n",
       "126311         101            1     CLE  Cavaliers   91  1704.39  1700.74   \n",
       "126312         102            1     CLE  Cavaliers   97  1700.74  1692.09   \n",
       "126313         103            1     GSW   Warriors  105  1813.63  1822.29   \n",
       "\n",
       "        win_equiv opp_id   opp_fran  opp_pts  opp_elo_i  opp_elo_n  \\\n",
       "126309      60.31    GSW   Warriors      103    1790.96    1809.98   \n",
       "126310      68.01    CLE  Cavaliers       91    1704.39    1700.74   \n",
       "126311      60.01    GSW   Warriors      104    1809.98    1813.63   \n",
       "126312      59.29    GSW   Warriors      105    1813.63    1822.29   \n",
       "126313      68.52    CLE  Cavaliers       97    1700.74    1692.09   \n",
       "\n",
       "       game_location game_result  forecast notes  \n",
       "126309             H           L      0.55   NaN  \n",
       "126310             H           W      0.77   NaN  \n",
       "126311             A           L      0.23   NaN  \n",
       "126312             H           L      0.48   NaN  \n",
       "126313             A           W      0.52   NaN  "
      ]
     },
     "execution_count": 8,
     "metadata": {},
     "output_type": "execute_result"
    }
   ],
   "source": [
    "nba.tail()"
   ]
  },
  {
   "cell_type": "markdown",
   "metadata": {},
   "source": [
    "#### Exercise\n",
    "\n",
    "Can you print the last 3 lines of our `DataFrame`?"
   ]
  },
  {
   "cell_type": "markdown",
   "metadata": {},
   "source": [
    "## Getting to Know Your Data"
   ]
  },
  {
   "cell_type": "markdown",
   "metadata": {},
   "source": [
    "### Displaying Data Types With `.info()`"
   ]
  },
  {
   "cell_type": "code",
   "execution_count": 9,
   "metadata": {},
   "outputs": [
    {
     "name": "stdout",
     "output_type": "stream",
     "text": [
      "<class 'pandas.core.frame.DataFrame'>\n",
      "RangeIndex: 126314 entries, 0 to 126313\n",
      "Data columns (total 23 columns):\n",
      " #   Column         Non-Null Count   Dtype  \n",
      "---  ------         --------------   -----  \n",
      " 0   gameorder      126314 non-null  int64  \n",
      " 1   game_id        126314 non-null  object \n",
      " 2   lg_id          126314 non-null  object \n",
      " 3   _iscopy        126314 non-null  int64  \n",
      " 4   year_id        126314 non-null  int64  \n",
      " 5   date_game      126314 non-null  object \n",
      " 6   seasongame     126314 non-null  int64  \n",
      " 7   is_playoffs    126314 non-null  int64  \n",
      " 8   team_id        126314 non-null  object \n",
      " 9   fran_id        126314 non-null  object \n",
      " 10  pts            126314 non-null  int64  \n",
      " 11  elo_i          126314 non-null  float64\n",
      " 12  elo_n          126314 non-null  float64\n",
      " 13  win_equiv      126314 non-null  float64\n",
      " 14  opp_id         126314 non-null  object \n",
      " 15  opp_fran       126314 non-null  object \n",
      " 16  opp_pts        126314 non-null  int64  \n",
      " 17  opp_elo_i      126314 non-null  float64\n",
      " 18  opp_elo_n      126314 non-null  float64\n",
      " 19  game_location  126314 non-null  object \n",
      " 20  game_result    126314 non-null  object \n",
      " 21  forecast       126314 non-null  float64\n",
      " 22  notes          5424 non-null    object \n",
      "dtypes: float64(6), int64(7), object(10)\n",
      "memory usage: 22.2+ MB\n"
     ]
    }
   ],
   "source": [
    "nba.info()"
   ]
  },
  {
   "cell_type": "markdown",
   "metadata": {},
   "source": [
    "### Showing Basics Statistics With `.describe()`"
   ]
  },
  {
   "cell_type": "code",
   "execution_count": 10,
   "metadata": {},
   "outputs": [
    {
     "data": {
      "text/html": [
       "<div>\n",
       "<style scoped>\n",
       "    .dataframe tbody tr th:only-of-type {\n",
       "        vertical-align: middle;\n",
       "    }\n",
       "\n",
       "    .dataframe tbody tr th {\n",
       "        vertical-align: top;\n",
       "    }\n",
       "\n",
       "    .dataframe thead th {\n",
       "        text-align: right;\n",
       "    }\n",
       "</style>\n",
       "<table border=\"1\" class=\"dataframe\">\n",
       "  <thead>\n",
       "    <tr style=\"text-align: right;\">\n",
       "      <th></th>\n",
       "      <th>gameorder</th>\n",
       "      <th>_iscopy</th>\n",
       "      <th>year_id</th>\n",
       "      <th>seasongame</th>\n",
       "      <th>is_playoffs</th>\n",
       "      <th>pts</th>\n",
       "      <th>elo_i</th>\n",
       "      <th>elo_n</th>\n",
       "      <th>win_equiv</th>\n",
       "      <th>opp_pts</th>\n",
       "      <th>opp_elo_i</th>\n",
       "      <th>opp_elo_n</th>\n",
       "      <th>forecast</th>\n",
       "    </tr>\n",
       "  </thead>\n",
       "  <tbody>\n",
       "    <tr>\n",
       "      <th>count</th>\n",
       "      <td>126314.00</td>\n",
       "      <td>126314.0</td>\n",
       "      <td>126314.00</td>\n",
       "      <td>126314.00</td>\n",
       "      <td>126314.00</td>\n",
       "      <td>126314.00</td>\n",
       "      <td>126314.00</td>\n",
       "      <td>126314.00</td>\n",
       "      <td>126314.00</td>\n",
       "      <td>126314.00</td>\n",
       "      <td>126314.00</td>\n",
       "      <td>126314.00</td>\n",
       "      <td>126314.00</td>\n",
       "    </tr>\n",
       "    <tr>\n",
       "      <th>mean</th>\n",
       "      <td>31579.00</td>\n",
       "      <td>0.5</td>\n",
       "      <td>1988.20</td>\n",
       "      <td>43.53</td>\n",
       "      <td>0.06</td>\n",
       "      <td>102.73</td>\n",
       "      <td>1495.24</td>\n",
       "      <td>1495.24</td>\n",
       "      <td>41.71</td>\n",
       "      <td>102.73</td>\n",
       "      <td>1495.24</td>\n",
       "      <td>1495.24</td>\n",
       "      <td>0.50</td>\n",
       "    </tr>\n",
       "    <tr>\n",
       "      <th>std</th>\n",
       "      <td>18231.93</td>\n",
       "      <td>0.5</td>\n",
       "      <td>17.58</td>\n",
       "      <td>25.38</td>\n",
       "      <td>0.24</td>\n",
       "      <td>14.81</td>\n",
       "      <td>112.14</td>\n",
       "      <td>112.46</td>\n",
       "      <td>10.63</td>\n",
       "      <td>14.81</td>\n",
       "      <td>112.14</td>\n",
       "      <td>112.46</td>\n",
       "      <td>0.22</td>\n",
       "    </tr>\n",
       "    <tr>\n",
       "      <th>min</th>\n",
       "      <td>1.00</td>\n",
       "      <td>0.0</td>\n",
       "      <td>1947.00</td>\n",
       "      <td>1.00</td>\n",
       "      <td>0.00</td>\n",
       "      <td>0.00</td>\n",
       "      <td>1091.64</td>\n",
       "      <td>1085.77</td>\n",
       "      <td>10.15</td>\n",
       "      <td>0.00</td>\n",
       "      <td>1091.64</td>\n",
       "      <td>1085.77</td>\n",
       "      <td>0.02</td>\n",
       "    </tr>\n",
       "    <tr>\n",
       "      <th>25%</th>\n",
       "      <td>15790.00</td>\n",
       "      <td>0.0</td>\n",
       "      <td>1975.00</td>\n",
       "      <td>22.00</td>\n",
       "      <td>0.00</td>\n",
       "      <td>93.00</td>\n",
       "      <td>1417.24</td>\n",
       "      <td>1416.99</td>\n",
       "      <td>34.10</td>\n",
       "      <td>93.00</td>\n",
       "      <td>1417.24</td>\n",
       "      <td>1416.99</td>\n",
       "      <td>0.33</td>\n",
       "    </tr>\n",
       "    <tr>\n",
       "      <th>50%</th>\n",
       "      <td>31579.00</td>\n",
       "      <td>0.5</td>\n",
       "      <td>1990.00</td>\n",
       "      <td>43.00</td>\n",
       "      <td>0.00</td>\n",
       "      <td>103.00</td>\n",
       "      <td>1500.95</td>\n",
       "      <td>1500.95</td>\n",
       "      <td>42.11</td>\n",
       "      <td>103.00</td>\n",
       "      <td>1500.95</td>\n",
       "      <td>1500.95</td>\n",
       "      <td>0.50</td>\n",
       "    </tr>\n",
       "    <tr>\n",
       "      <th>75%</th>\n",
       "      <td>47368.00</td>\n",
       "      <td>1.0</td>\n",
       "      <td>2003.00</td>\n",
       "      <td>65.00</td>\n",
       "      <td>0.00</td>\n",
       "      <td>112.00</td>\n",
       "      <td>1576.06</td>\n",
       "      <td>1576.29</td>\n",
       "      <td>49.64</td>\n",
       "      <td>112.00</td>\n",
       "      <td>1576.06</td>\n",
       "      <td>1576.29</td>\n",
       "      <td>0.67</td>\n",
       "    </tr>\n",
       "    <tr>\n",
       "      <th>max</th>\n",
       "      <td>63157.00</td>\n",
       "      <td>1.0</td>\n",
       "      <td>2015.00</td>\n",
       "      <td>108.00</td>\n",
       "      <td>1.00</td>\n",
       "      <td>186.00</td>\n",
       "      <td>1853.10</td>\n",
       "      <td>1853.10</td>\n",
       "      <td>71.11</td>\n",
       "      <td>186.00</td>\n",
       "      <td>1853.10</td>\n",
       "      <td>1853.10</td>\n",
       "      <td>0.98</td>\n",
       "    </tr>\n",
       "  </tbody>\n",
       "</table>\n",
       "</div>"
      ],
      "text/plain": [
       "       gameorder   _iscopy    year_id  seasongame  is_playoffs        pts  \\\n",
       "count  126314.00  126314.0  126314.00   126314.00    126314.00  126314.00   \n",
       "mean    31579.00       0.5    1988.20       43.53         0.06     102.73   \n",
       "std     18231.93       0.5      17.58       25.38         0.24      14.81   \n",
       "min         1.00       0.0    1947.00        1.00         0.00       0.00   \n",
       "25%     15790.00       0.0    1975.00       22.00         0.00      93.00   \n",
       "50%     31579.00       0.5    1990.00       43.00         0.00     103.00   \n",
       "75%     47368.00       1.0    2003.00       65.00         0.00     112.00   \n",
       "max     63157.00       1.0    2015.00      108.00         1.00     186.00   \n",
       "\n",
       "           elo_i      elo_n  win_equiv    opp_pts  opp_elo_i  opp_elo_n  \\\n",
       "count  126314.00  126314.00  126314.00  126314.00  126314.00  126314.00   \n",
       "mean     1495.24    1495.24      41.71     102.73    1495.24    1495.24   \n",
       "std       112.14     112.46      10.63      14.81     112.14     112.46   \n",
       "min      1091.64    1085.77      10.15       0.00    1091.64    1085.77   \n",
       "25%      1417.24    1416.99      34.10      93.00    1417.24    1416.99   \n",
       "50%      1500.95    1500.95      42.11     103.00    1500.95    1500.95   \n",
       "75%      1576.06    1576.29      49.64     112.00    1576.06    1576.29   \n",
       "max      1853.10    1853.10      71.11     186.00    1853.10    1853.10   \n",
       "\n",
       "        forecast  \n",
       "count  126314.00  \n",
       "mean        0.50  \n",
       "std         0.22  \n",
       "min         0.02  \n",
       "25%         0.33  \n",
       "50%         0.50  \n",
       "75%         0.67  \n",
       "max         0.98  "
      ]
     },
     "execution_count": 10,
     "metadata": {},
     "output_type": "execute_result"
    }
   ],
   "source": [
    "nba.describe()"
   ]
  },
  {
   "cell_type": "code",
   "execution_count": 11,
   "metadata": {},
   "outputs": [
    {
     "data": {
      "text/html": [
       "<div>\n",
       "<style scoped>\n",
       "    .dataframe tbody tr th:only-of-type {\n",
       "        vertical-align: middle;\n",
       "    }\n",
       "\n",
       "    .dataframe tbody tr th {\n",
       "        vertical-align: top;\n",
       "    }\n",
       "\n",
       "    .dataframe thead th {\n",
       "        text-align: right;\n",
       "    }\n",
       "</style>\n",
       "<table border=\"1\" class=\"dataframe\">\n",
       "  <thead>\n",
       "    <tr style=\"text-align: right;\">\n",
       "      <th></th>\n",
       "      <th>game_id</th>\n",
       "      <th>lg_id</th>\n",
       "      <th>date_game</th>\n",
       "      <th>team_id</th>\n",
       "      <th>fran_id</th>\n",
       "      <th>opp_id</th>\n",
       "      <th>opp_fran</th>\n",
       "      <th>game_location</th>\n",
       "      <th>game_result</th>\n",
       "      <th>notes</th>\n",
       "    </tr>\n",
       "  </thead>\n",
       "  <tbody>\n",
       "    <tr>\n",
       "      <th>count</th>\n",
       "      <td>126314</td>\n",
       "      <td>126314</td>\n",
       "      <td>126314</td>\n",
       "      <td>126314</td>\n",
       "      <td>126314</td>\n",
       "      <td>126314</td>\n",
       "      <td>126314</td>\n",
       "      <td>126314</td>\n",
       "      <td>126314</td>\n",
       "      <td>5424</td>\n",
       "    </tr>\n",
       "    <tr>\n",
       "      <th>unique</th>\n",
       "      <td>63157</td>\n",
       "      <td>2</td>\n",
       "      <td>12426</td>\n",
       "      <td>104</td>\n",
       "      <td>53</td>\n",
       "      <td>104</td>\n",
       "      <td>53</td>\n",
       "      <td>3</td>\n",
       "      <td>2</td>\n",
       "      <td>231</td>\n",
       "    </tr>\n",
       "    <tr>\n",
       "      <th>top</th>\n",
       "      <td>194611010TRH</td>\n",
       "      <td>NBA</td>\n",
       "      <td>4/13/2011</td>\n",
       "      <td>BOS</td>\n",
       "      <td>Lakers</td>\n",
       "      <td>BOS</td>\n",
       "      <td>Lakers</td>\n",
       "      <td>H</td>\n",
       "      <td>L</td>\n",
       "      <td>at New York NY</td>\n",
       "    </tr>\n",
       "    <tr>\n",
       "      <th>freq</th>\n",
       "      <td>2</td>\n",
       "      <td>118016</td>\n",
       "      <td>30</td>\n",
       "      <td>5997</td>\n",
       "      <td>6024</td>\n",
       "      <td>5997</td>\n",
       "      <td>6024</td>\n",
       "      <td>63138</td>\n",
       "      <td>63157</td>\n",
       "      <td>440</td>\n",
       "    </tr>\n",
       "  </tbody>\n",
       "</table>\n",
       "</div>"
      ],
      "text/plain": [
       "             game_id   lg_id  date_game team_id fran_id  opp_id opp_fran  \\\n",
       "count         126314  126314     126314  126314  126314  126314   126314   \n",
       "unique         63157       2      12426     104      53     104       53   \n",
       "top     194611010TRH     NBA  4/13/2011     BOS  Lakers     BOS   Lakers   \n",
       "freq               2  118016         30    5997    6024    5997     6024   \n",
       "\n",
       "       game_location game_result           notes  \n",
       "count         126314      126314            5424  \n",
       "unique             3           2             231  \n",
       "top                H           L  at New York NY  \n",
       "freq           63138       63157             440  "
      ]
     },
     "execution_count": 11,
     "metadata": {},
     "output_type": "execute_result"
    }
   ],
   "source": [
    "import numpy as np\n",
    "\n",
    "nba.describe(include=object)"
   ]
  },
  {
   "cell_type": "markdown",
   "metadata": {},
   "source": [
    "### A Mini Data Exploration With Pandas"
   ]
  },
  {
   "cell_type": "code",
   "execution_count": 12,
   "metadata": {},
   "outputs": [
    {
     "data": {
      "text/plain": [
       "BOS    5997\n",
       "NYK    5769\n",
       "LAL    5078\n",
       "DET    4985\n",
       "PHI    4533\n",
       "       ... \n",
       "INJ      60\n",
       "PIT      60\n",
       "DTF      60\n",
       "TRH      60\n",
       "SDS      11\n",
       "Name: team_id, Length: 104, dtype: int64"
      ]
     },
     "execution_count": 12,
     "metadata": {},
     "output_type": "execute_result"
    }
   ],
   "source": [
    "nba[\"team_id\"].value_counts()\n",
    "# Expected:\n",
    "# BOS    5997\n",
    "# NYK    5769\n",
    "# LAL    5078\n",
    "\n",
    "# SDS      11"
   ]
  },
  {
   "cell_type": "code",
   "execution_count": 13,
   "metadata": {},
   "outputs": [
    {
     "data": {
      "text/plain": [
       "Lakers          6024\n",
       "Celtics         5997\n",
       "Knicks          5769\n",
       "Warriors        5657\n",
       "Pistons         5650\n",
       "Sixers          5644\n",
       "Hawks           5572\n",
       "Kings           5475\n",
       "Wizards         4582\n",
       "Spurs           4309\n",
       "Bulls           4307\n",
       "Pacers          4227\n",
       "Thunder         4178\n",
       "Rockets         4154\n",
       "Nuggets         4120\n",
       "Nets            4106\n",
       "Suns            4080\n",
       "Bucks           4034\n",
       "Trailblazers    3870\n",
       "Cavaliers       3810\n",
       "Clippers        3733\n",
       "Jazz            3555\n",
       "Mavericks       3013\n",
       "Heat            2371\n",
       "Pelicans        2254\n",
       "Magic           2207\n",
       "Timberwolves    2131\n",
       "Grizzlies       1657\n",
       "Raptors         1634\n",
       "Hornets          894\n",
       "Colonels         846\n",
       "Squires          799\n",
       "Spirits          777\n",
       "Stars            756\n",
       "Sounds           697\n",
       "Baltimore        467\n",
       "Floridians       440\n",
       "Condors          430\n",
       "Capitols         291\n",
       "Olympians        282\n",
       "Sails            274\n",
       "Stags            260\n",
       "Bombers          249\n",
       "Steamrollers     168\n",
       "Packers           72\n",
       "Redskins          65\n",
       "Rebels            63\n",
       "Waterloo          62\n",
       "Denver            62\n",
       "Falcons           60\n",
       "Jets              60\n",
       "Ironmen           60\n",
       "Huskies           60\n",
       "Name: fran_id, dtype: int64"
      ]
     },
     "execution_count": 13,
     "metadata": {},
     "output_type": "execute_result"
    }
   ],
   "source": [
    "nba[\"fran_id\"].value_counts()\n",
    "# Expected:\n",
    "# Lakers          6024\n",
    "# Celtics         5997\n",
    "# Knicks          5769\n",
    "\n",
    "# Falcons           60\n",
    "# Name: fran_id, dtype: int64"
   ]
  },
  {
   "cell_type": "code",
   "execution_count": 14,
   "metadata": {},
   "outputs": [
    {
     "data": {
      "text/plain": [
       "LAL    5078\n",
       "MNL     946\n",
       "Name: team_id, dtype: int64"
      ]
     },
     "execution_count": 14,
     "metadata": {},
     "output_type": "execute_result"
    }
   ],
   "source": [
    "nba.loc[nba[\"fran_id\"] == \"Lakers\", \"team_id\"].value_counts()\n",
    "# Expected:\n",
    "# LAL    5078\n",
    "# MNL     946\n",
    "# Name: team_id, dtype: int64"
   ]
  },
  {
   "cell_type": "code",
   "execution_count": 15,
   "metadata": {},
   "outputs": [],
   "source": [
    "nba[\"date_played\"] = pd.to_datetime(nba[\"date_game\"])"
   ]
  },
  {
   "cell_type": "code",
   "execution_count": 16,
   "metadata": {},
   "outputs": [
    {
     "data": {
      "text/plain": [
       "Timestamp('1948-11-04 00:00:00')"
      ]
     },
     "execution_count": 16,
     "metadata": {},
     "output_type": "execute_result"
    }
   ],
   "source": [
    "nba.loc[nba[\"team_id\"] == \"MNL\", \"date_played\"].min()\n",
    "# Expected:\n",
    "# Timestamp('1948-11-04 00:00:00')"
   ]
  },
  {
   "cell_type": "code",
   "execution_count": 17,
   "metadata": {},
   "outputs": [
    {
     "data": {
      "text/plain": [
       "Timestamp('1960-03-26 00:00:00')"
      ]
     },
     "execution_count": 17,
     "metadata": {},
     "output_type": "execute_result"
    }
   ],
   "source": [
    "nba.loc[nba[\"team_id\"] == \"MNL\", \"date_played\"].max()\n",
    "# Expected:\n",
    "# Timestamp('1960-03-26 00:00:00')"
   ]
  },
  {
   "cell_type": "code",
   "execution_count": 18,
   "metadata": {},
   "outputs": [
    {
     "data": {
      "text/plain": [
       "min   1948-11-04\n",
       "max   1960-03-26\n",
       "Name: date_played, dtype: datetime64[ns]"
      ]
     },
     "execution_count": 18,
     "metadata": {},
     "output_type": "execute_result"
    }
   ],
   "source": [
    "nba.loc[nba[\"team_id\"] == \"MNL\", \"date_played\"].agg((\"min\", \"max\"))\n",
    "# Expected:\n",
    "# min   1948-11-04\n",
    "# max   1960-03-26\n",
    "# Name: date_played, dtype: datetime64[ns]"
   ]
  },
  {
   "cell_type": "markdown",
   "metadata": {},
   "source": [
    "#### Exercise\n",
    "\n",
    "Find out how many points the Boston Celtics have scored during all its matches contained in this dataset."
   ]
  },
  {
   "cell_type": "markdown",
   "metadata": {},
   "source": [
    "## Getting to Know Pandas' Data Structures"
   ]
  },
  {
   "cell_type": "markdown",
   "metadata": {},
   "source": [
    "### `Series`: The Basic Building Block in Pandas"
   ]
  },
  {
   "cell_type": "code",
   "execution_count": 19,
   "metadata": {},
   "outputs": [
    {
     "data": {
      "text/plain": [
       "0    5555\n",
       "1    7000\n",
       "2    1980\n",
       "dtype: int64"
      ]
     },
     "execution_count": 19,
     "metadata": {},
     "output_type": "execute_result"
    }
   ],
   "source": [
    "revenues = pd.Series([5555, 7000, 1980])\n",
    "revenues\n",
    "# Expected:\n",
    "# 0    5555\n",
    "# 1    7000\n",
    "# 2    1980\n",
    "# dtype: int64"
   ]
  },
  {
   "cell_type": "code",
   "execution_count": 20,
   "metadata": {},
   "outputs": [
    {
     "data": {
      "text/plain": [
       "array([5555, 7000, 1980])"
      ]
     },
     "execution_count": 20,
     "metadata": {},
     "output_type": "execute_result"
    }
   ],
   "source": [
    "revenues.values\n",
    "# Expected:\n",
    "# array([5555, 7000, 1980])"
   ]
  },
  {
   "cell_type": "code",
   "execution_count": 21,
   "metadata": {},
   "outputs": [
    {
     "data": {
      "text/plain": [
       "RangeIndex(start=0, stop=3, step=1)"
      ]
     },
     "execution_count": 21,
     "metadata": {},
     "output_type": "execute_result"
    }
   ],
   "source": [
    "revenues.index\n",
    "# Expected:\n",
    "# RangeIndex(start=0, stop=3, step=1)"
   ]
  },
  {
   "cell_type": "code",
   "execution_count": 22,
   "metadata": {},
   "outputs": [
    {
     "data": {
      "text/plain": [
       "numpy.ndarray"
      ]
     },
     "execution_count": 22,
     "metadata": {},
     "output_type": "execute_result"
    }
   ],
   "source": [
    "type(revenues.values)\n",
    "# Expected:\n",
    "# <class 'numpy.ndarray'>"
   ]
  },
  {
   "cell_type": "code",
   "execution_count": 23,
   "metadata": {},
   "outputs": [
    {
     "data": {
      "text/plain": [
       "Amsterdam    4200\n",
       "Toronto      8000\n",
       "Tokyo        6500\n",
       "dtype: int64"
      ]
     },
     "execution_count": 23,
     "metadata": {},
     "output_type": "execute_result"
    }
   ],
   "source": [
    "city_revenues = pd.Series(\n",
    "    [4200, 8000, 6500], index=[\"Amsterdam\", \"Toronto\", \"Tokyo\"]\n",
    ")\n",
    "city_revenues\n",
    "# Expected:\n",
    "# Amsterdam    4200\n",
    "# Toronto      8000\n",
    "# Tokyo        6500\n",
    "# dtype: int64"
   ]
  },
  {
   "cell_type": "markdown",
   "metadata": {},
   "source": [
    "### `Pandas Series` vs Built-In Python Data Structures"
   ]
  },
  {
   "cell_type": "code",
   "execution_count": 24,
   "metadata": {},
   "outputs": [
    {
     "data": {
      "text/plain": [
       "Amsterdam    5\n",
       "Tokyo        8\n",
       "dtype: int64"
      ]
     },
     "execution_count": 24,
     "metadata": {},
     "output_type": "execute_result"
    }
   ],
   "source": [
    "city_employee_count = pd.Series({\"Amsterdam\": 5, \"Tokyo\": 8})\n",
    "city_employee_count\n",
    "# Expected:\n",
    "# Amsterdam    5\n",
    "# Tokyo        8\n",
    "# dtype: int64"
   ]
  },
  {
   "cell_type": "code",
   "execution_count": 25,
   "metadata": {},
   "outputs": [
    {
     "data": {
      "text/plain": [
       "Index(['Amsterdam', 'Tokyo'], dtype='object')"
      ]
     },
     "execution_count": 25,
     "metadata": {},
     "output_type": "execute_result"
    }
   ],
   "source": [
    "city_employee_count.keys()\n",
    "# Expected:\n",
    "# Index(['Amsterdam', 'Tokyo'], dtype='object')"
   ]
  },
  {
   "cell_type": "code",
   "execution_count": 26,
   "metadata": {},
   "outputs": [
    {
     "data": {
      "text/plain": [
       "True"
      ]
     },
     "execution_count": 26,
     "metadata": {},
     "output_type": "execute_result"
    }
   ],
   "source": [
    "\"Tokyo\" in city_employee_count\n",
    "# Expected:\n",
    "# True"
   ]
  },
  {
   "cell_type": "code",
   "execution_count": 27,
   "metadata": {},
   "outputs": [
    {
     "data": {
      "text/plain": [
       "False"
      ]
     },
     "execution_count": 27,
     "metadata": {},
     "output_type": "execute_result"
    }
   ],
   "source": [
    "\"New York\" in city_employee_count\n",
    "# Expected:\n",
    "# False"
   ]
  },
  {
   "cell_type": "markdown",
   "metadata": {},
   "source": [
    "### `DataFrame`: Pandas' Most Popular Data Structure"
   ]
  },
  {
   "cell_type": "code",
   "execution_count": 28,
   "metadata": {},
   "outputs": [
    {
     "data": {
      "text/html": [
       "<div>\n",
       "<style scoped>\n",
       "    .dataframe tbody tr th:only-of-type {\n",
       "        vertical-align: middle;\n",
       "    }\n",
       "\n",
       "    .dataframe tbody tr th {\n",
       "        vertical-align: top;\n",
       "    }\n",
       "\n",
       "    .dataframe thead th {\n",
       "        text-align: right;\n",
       "    }\n",
       "</style>\n",
       "<table border=\"1\" class=\"dataframe\">\n",
       "  <thead>\n",
       "    <tr style=\"text-align: right;\">\n",
       "      <th></th>\n",
       "      <th>revenue</th>\n",
       "      <th>employee_count</th>\n",
       "    </tr>\n",
       "  </thead>\n",
       "  <tbody>\n",
       "    <tr>\n",
       "      <th>Amsterdam</th>\n",
       "      <td>4200</td>\n",
       "      <td>5.0</td>\n",
       "    </tr>\n",
       "    <tr>\n",
       "      <th>Tokyo</th>\n",
       "      <td>6500</td>\n",
       "      <td>8.0</td>\n",
       "    </tr>\n",
       "    <tr>\n",
       "      <th>Toronto</th>\n",
       "      <td>8000</td>\n",
       "      <td>NaN</td>\n",
       "    </tr>\n",
       "  </tbody>\n",
       "</table>\n",
       "</div>"
      ],
      "text/plain": [
       "           revenue  employee_count\n",
       "Amsterdam     4200             5.0\n",
       "Tokyo         6500             8.0\n",
       "Toronto       8000             NaN"
      ]
     },
     "execution_count": 28,
     "metadata": {},
     "output_type": "execute_result"
    }
   ],
   "source": [
    "city_data = pd.DataFrame(\n",
    "    {\"revenue\": city_revenues, \"employee_count\": city_employee_count}\n",
    ")\n",
    "city_data\n",
    "# Expected:\n",
    "# revenue  employee_count\n",
    "# Amsterdam     4200             5.0\n",
    "# Tokyo         6500             8.0\n",
    "# Toronto       8000             NaN"
   ]
  },
  {
   "cell_type": "code",
   "execution_count": 29,
   "metadata": {},
   "outputs": [
    {
     "data": {
      "text/plain": [
       "Index(['Amsterdam', 'Tokyo', 'Toronto'], dtype='object')"
      ]
     },
     "execution_count": 29,
     "metadata": {},
     "output_type": "execute_result"
    }
   ],
   "source": [
    "city_data.index\n",
    "# Expected:\n",
    "# Index(['Amsterdam', 'Tokyo', 'Toronto'], dtype='object')"
   ]
  },
  {
   "cell_type": "code",
   "execution_count": 30,
   "metadata": {},
   "outputs": [
    {
     "data": {
      "text/plain": [
       "array([[4.2e+03, 5.0e+00],\n",
       "       [6.5e+03, 8.0e+00],\n",
       "       [8.0e+03,     nan]])"
      ]
     },
     "execution_count": 30,
     "metadata": {},
     "output_type": "execute_result"
    }
   ],
   "source": [
    "city_data.values\n",
    "# Expected:\n",
    "# array([[4.2e+03, 5.0e+00],\n",
    "#        [6.5e+03, 8.0e+00],\n",
    "#        [8.0e+03,     nan]])"
   ]
  },
  {
   "cell_type": "code",
   "execution_count": 31,
   "metadata": {},
   "outputs": [
    {
     "data": {
      "text/plain": [
       "[Index(['Amsterdam', 'Tokyo', 'Toronto'], dtype='object'),\n",
       " Index(['revenue', 'employee_count'], dtype='object')]"
      ]
     },
     "execution_count": 31,
     "metadata": {},
     "output_type": "execute_result"
    }
   ],
   "source": [
    "city_data.axes\n",
    "# Expected:\n",
    "# [Index(['Amsterdam', 'Tokyo', 'Toronto'], dtype='object'),\n",
    "# Index(['revenue', 'employee_count'], dtype='object')]"
   ]
  },
  {
   "cell_type": "code",
   "execution_count": 32,
   "metadata": {},
   "outputs": [
    {
     "data": {
      "text/plain": [
       "Index(['Amsterdam', 'Tokyo', 'Toronto'], dtype='object')"
      ]
     },
     "execution_count": 32,
     "metadata": {},
     "output_type": "execute_result"
    }
   ],
   "source": [
    "city_data.axes[0]\n",
    "# Expected:\n",
    "# Index(['Amsterdam', 'Tokyo', 'Toronto'], dtype='object')"
   ]
  },
  {
   "cell_type": "code",
   "execution_count": 33,
   "metadata": {},
   "outputs": [
    {
     "data": {
      "text/plain": [
       "Index(['revenue', 'employee_count'], dtype='object')"
      ]
     },
     "execution_count": 33,
     "metadata": {},
     "output_type": "execute_result"
    }
   ],
   "source": [
    "city_data.axes[1]\n",
    "# Expected:\n",
    "# Index(['revenue', 'employee_count'], dtype='object')"
   ]
  },
  {
   "cell_type": "code",
   "execution_count": 34,
   "metadata": {},
   "outputs": [
    {
     "data": {
      "text/plain": [
       "Index(['revenue', 'employee_count'], dtype='object')"
      ]
     },
     "execution_count": 34,
     "metadata": {},
     "output_type": "execute_result"
    }
   ],
   "source": [
    "city_data.keys()\n",
    "# Expected:\n",
    "# Index(['revenue', 'employee_count'], dtype='object')"
   ]
  },
  {
   "cell_type": "code",
   "execution_count": 35,
   "metadata": {},
   "outputs": [
    {
     "data": {
      "text/plain": [
       "False"
      ]
     },
     "execution_count": 35,
     "metadata": {},
     "output_type": "execute_result"
    }
   ],
   "source": [
    "\"Amsterdam\" in city_data\n",
    "# Expected:\n",
    "# False"
   ]
  },
  {
   "cell_type": "code",
   "execution_count": 36,
   "metadata": {},
   "outputs": [
    {
     "data": {
      "text/plain": [
       "True"
      ]
     },
     "execution_count": 36,
     "metadata": {},
     "output_type": "execute_result"
    }
   ],
   "source": [
    "\"revenue\" in city_data\n",
    "# Expected:\n",
    "# True"
   ]
  },
  {
   "cell_type": "markdown",
   "metadata": {},
   "source": [
    "#### Exercise\n",
    "\n",
    "Display the index and the axes of the `nba` dataset.  \n",
    "Check whether it has a column \"points\". Or was it called \"pts\"?"
   ]
  },
  {
   "cell_type": "markdown",
   "metadata": {},
   "source": [
    "## Accessing Elements for Python `list` and Pandas `Series`: Similarities and Differences"
   ]
  },
  {
   "cell_type": "markdown",
   "metadata": {},
   "source": [
    "### The Benefits and Limitations of the Python Indexing Operator `[]`"
   ]
  },
  {
   "cell_type": "code",
   "execution_count": 37,
   "metadata": {},
   "outputs": [
    {
     "data": {
      "text/plain": [
       "Amsterdam    4200\n",
       "Toronto      8000\n",
       "Tokyo        6500\n",
       "dtype: int64"
      ]
     },
     "execution_count": 37,
     "metadata": {},
     "output_type": "execute_result"
    }
   ],
   "source": [
    "city_revenues\n",
    "# Expected:\n",
    "# Amsterdam    4200\n",
    "# Toronto      8000\n",
    "# Tokyo        6500\n",
    "# dtype: int64"
   ]
  },
  {
   "cell_type": "code",
   "execution_count": 38,
   "metadata": {},
   "outputs": [
    {
     "data": {
      "text/plain": [
       "8000"
      ]
     },
     "execution_count": 38,
     "metadata": {},
     "output_type": "execute_result"
    }
   ],
   "source": [
    "city_revenues[\"Toronto\"]\n",
    "# Expected:\n",
    "# 8000"
   ]
  },
  {
   "cell_type": "code",
   "execution_count": 39,
   "metadata": {},
   "outputs": [
    {
     "data": {
      "text/plain": [
       "8000"
      ]
     },
     "execution_count": 39,
     "metadata": {},
     "output_type": "execute_result"
    }
   ],
   "source": [
    "city_revenues[1]\n",
    "# Expected:\n",
    "# 8000"
   ]
  },
  {
   "cell_type": "code",
   "execution_count": 40,
   "metadata": {},
   "outputs": [
    {
     "data": {
      "text/plain": [
       "6500"
      ]
     },
     "execution_count": 40,
     "metadata": {},
     "output_type": "execute_result"
    }
   ],
   "source": [
    "city_revenues[-1]\n",
    "# Expected:\n",
    "# 6500"
   ]
  },
  {
   "cell_type": "code",
   "execution_count": 41,
   "metadata": {},
   "outputs": [
    {
     "data": {
      "text/plain": [
       "Toronto    8000\n",
       "Tokyo      6500\n",
       "dtype: int64"
      ]
     },
     "execution_count": 41,
     "metadata": {},
     "output_type": "execute_result"
    }
   ],
   "source": [
    "city_revenues[1:]\n",
    "# Expected:\n",
    "# Toronto    8000\n",
    "# Tokyo      6500\n",
    "# dtype: int64"
   ]
  },
  {
   "cell_type": "code",
   "execution_count": 42,
   "metadata": {},
   "outputs": [
    {
     "data": {
      "text/plain": [
       "Toronto    8000\n",
       "Tokyo      6500\n",
       "dtype: int64"
      ]
     },
     "execution_count": 42,
     "metadata": {},
     "output_type": "execute_result"
    }
   ],
   "source": [
    "city_revenues[\"Toronto\":]\n",
    "# Expected:\n",
    "# Toronto    8000\n",
    "# Tokyo      6500\n",
    "# dtype: int64"
   ]
  },
  {
   "cell_type": "markdown",
   "metadata": {},
   "source": [
    "### Accessing `Series`' Elements via `.loc` and `.iloc`"
   ]
  },
  {
   "cell_type": "code",
   "execution_count": 43,
   "metadata": {},
   "outputs": [
    {
     "data": {
      "text/plain": [
       "1       red\n",
       "2    purple\n",
       "3      blue\n",
       "5     green\n",
       "8    yellow\n",
       "dtype: object"
      ]
     },
     "execution_count": 43,
     "metadata": {},
     "output_type": "execute_result"
    }
   ],
   "source": [
    "colors = pd.Series(\n",
    "    [\"red\", \"purple\", \"blue\", \"green\", \"yellow\"], index=[1, 2, 3, 5, 8]\n",
    ")\n",
    "colors\n",
    "# Expected:\n",
    "# 1       red\n",
    "# 2    purple\n",
    "# 3      blue\n",
    "# 5     green\n",
    "# 8    yellow\n",
    "# dtype: object"
   ]
  },
  {
   "cell_type": "code",
   "execution_count": 44,
   "metadata": {},
   "outputs": [
    {
     "data": {
      "text/plain": [
       "'red'"
      ]
     },
     "execution_count": 44,
     "metadata": {},
     "output_type": "execute_result"
    }
   ],
   "source": [
    "colors.loc[1]\n",
    "# Expected:\n",
    "# 'red'"
   ]
  },
  {
   "cell_type": "code",
   "execution_count": 45,
   "metadata": {},
   "outputs": [
    {
     "data": {
      "text/plain": [
       "'purple'"
      ]
     },
     "execution_count": 45,
     "metadata": {},
     "output_type": "execute_result"
    }
   ],
   "source": [
    "colors.iloc[1]\n",
    "# Expected:\n",
    "# 'purple'"
   ]
  },
  {
   "cell_type": "code",
   "execution_count": 46,
   "metadata": {},
   "outputs": [
    {
     "data": {
      "text/plain": [
       "2    purple\n",
       "3      blue\n",
       "dtype: object"
      ]
     },
     "execution_count": 46,
     "metadata": {},
     "output_type": "execute_result"
    }
   ],
   "source": [
    "# Return the elements with the implicit index: 1, 2\n",
    "colors.iloc[1:3]\n",
    "# Expected:\n",
    "# 2    purple\n",
    "# 3      blue\n",
    "# dtype: object"
   ]
  },
  {
   "cell_type": "code",
   "execution_count": 47,
   "metadata": {},
   "outputs": [
    {
     "data": {
      "text/plain": [
       "3      blue\n",
       "5     green\n",
       "8    yellow\n",
       "dtype: object"
      ]
     },
     "execution_count": 47,
     "metadata": {},
     "output_type": "execute_result"
    }
   ],
   "source": [
    "# Return the elements with the explicit index between 3 and 8\n",
    "colors.loc[3:8]\n",
    "# Expected:\n",
    "# 3      blue\n",
    "# 5     green\n",
    "# 8    yellow\n",
    "# dtype: object"
   ]
  },
  {
   "cell_type": "code",
   "execution_count": 48,
   "metadata": {},
   "outputs": [
    {
     "data": {
      "text/plain": [
       "'green'"
      ]
     },
     "execution_count": 48,
     "metadata": {},
     "output_type": "execute_result"
    }
   ],
   "source": [
    "colors.iloc[-2]\n",
    "# Expected:\n",
    "# 'green'"
   ]
  },
  {
   "cell_type": "markdown",
   "metadata": {},
   "source": [
    "## Accessing the Elements of a `DataFrame`"
   ]
  },
  {
   "cell_type": "markdown",
   "metadata": {},
   "source": [
    "### Accessing Columns of a `DataFrame`"
   ]
  },
  {
   "cell_type": "code",
   "execution_count": 49,
   "metadata": {},
   "outputs": [
    {
     "data": {
      "text/plain": [
       "Amsterdam    4200\n",
       "Tokyo        6500\n",
       "Toronto      8000\n",
       "Name: revenue, dtype: int64"
      ]
     },
     "execution_count": 49,
     "metadata": {},
     "output_type": "execute_result"
    }
   ],
   "source": [
    "city_data[\"revenue\"]\n",
    "# Expected:\n",
    "# Amsterdam    4200\n",
    "# Tokyo        6500\n",
    "# Toronto      8000\n",
    "# Name: revenue, dtype: int64"
   ]
  },
  {
   "cell_type": "code",
   "execution_count": 50,
   "metadata": {},
   "outputs": [
    {
     "data": {
      "text/plain": [
       "pandas.core.series.Series"
      ]
     },
     "execution_count": 50,
     "metadata": {},
     "output_type": "execute_result"
    }
   ],
   "source": [
    "type(city_data[\"revenue\"])\n",
    "# Expected:\n",
    "# pandas.core.series.Series"
   ]
  },
  {
   "cell_type": "code",
   "execution_count": 51,
   "metadata": {},
   "outputs": [
    {
     "data": {
      "text/plain": [
       "Amsterdam    4200\n",
       "Tokyo        6500\n",
       "Toronto      8000\n",
       "Name: revenue, dtype: int64"
      ]
     },
     "execution_count": 51,
     "metadata": {},
     "output_type": "execute_result"
    }
   ],
   "source": [
    "city_data.revenue\n",
    "# Expected:\n",
    "# Amsterdam    4200\n",
    "# Tokyo        6500\n",
    "# Toronto      8000\n",
    "# Name: revenue, dtype: int64"
   ]
  },
  {
   "cell_type": "code",
   "execution_count": 52,
   "metadata": {},
   "outputs": [
    {
     "data": {
      "text/plain": [
       "0    sphere\n",
       "1      cube\n",
       "Name: shape, dtype: object"
      ]
     },
     "execution_count": 52,
     "metadata": {},
     "output_type": "execute_result"
    }
   ],
   "source": [
    "toys = pd.DataFrame(\n",
    "    [\n",
    "        {\"name\": \"ball\", \"shape\": \"sphere\"},\n",
    "        {\"name\": \"Rubik's cube\", \"shape\": \"cube\"},\n",
    "    ]\n",
    ")\n",
    "toys[\"shape\"]\n",
    "# Expected:\n",
    "# 0    sphere\n",
    "# 1      cube\n",
    "# Name: shape, dtype: object"
   ]
  },
  {
   "cell_type": "code",
   "execution_count": 53,
   "metadata": {},
   "outputs": [
    {
     "data": {
      "text/plain": [
       "(2, 2)"
      ]
     },
     "execution_count": 53,
     "metadata": {},
     "output_type": "execute_result"
    }
   ],
   "source": [
    "toys.shape\n",
    "# Expected:\n",
    "# (2, 2)"
   ]
  },
  {
   "cell_type": "markdown",
   "metadata": {},
   "source": [
    "### Accessing Rows of a `DataFrame` With `.loc` and `.iloc`"
   ]
  },
  {
   "cell_type": "code",
   "execution_count": 54,
   "metadata": {},
   "outputs": [
    {
     "data": {
      "text/plain": [
       "revenue           4200.0\n",
       "employee_count       5.0\n",
       "Name: Amsterdam, dtype: float64"
      ]
     },
     "execution_count": 54,
     "metadata": {},
     "output_type": "execute_result"
    }
   ],
   "source": [
    "city_data.loc[\"Amsterdam\"]\n",
    "# Expected:\n",
    "# revenue           4200.0\n",
    "# employee_count       5.0\n",
    "# Name: Amsterdam, dtype: float64"
   ]
  },
  {
   "cell_type": "code",
   "execution_count": 55,
   "metadata": {},
   "outputs": [
    {
     "data": {
      "text/html": [
       "<div>\n",
       "<style scoped>\n",
       "    .dataframe tbody tr th:only-of-type {\n",
       "        vertical-align: middle;\n",
       "    }\n",
       "\n",
       "    .dataframe tbody tr th {\n",
       "        vertical-align: top;\n",
       "    }\n",
       "\n",
       "    .dataframe thead th {\n",
       "        text-align: right;\n",
       "    }\n",
       "</style>\n",
       "<table border=\"1\" class=\"dataframe\">\n",
       "  <thead>\n",
       "    <tr style=\"text-align: right;\">\n",
       "      <th></th>\n",
       "      <th>revenue</th>\n",
       "      <th>employee_count</th>\n",
       "    </tr>\n",
       "  </thead>\n",
       "  <tbody>\n",
       "    <tr>\n",
       "      <th>Tokyo</th>\n",
       "      <td>6500</td>\n",
       "      <td>8.0</td>\n",
       "    </tr>\n",
       "    <tr>\n",
       "      <th>Toronto</th>\n",
       "      <td>8000</td>\n",
       "      <td>NaN</td>\n",
       "    </tr>\n",
       "  </tbody>\n",
       "</table>\n",
       "</div>"
      ],
      "text/plain": [
       "         revenue  employee_count\n",
       "Tokyo       6500             8.0\n",
       "Toronto     8000             NaN"
      ]
     },
     "execution_count": 55,
     "metadata": {},
     "output_type": "execute_result"
    }
   ],
   "source": [
    "city_data.loc[\"Tokyo\":\"Toronto\"]\n",
    "# Expected:\n",
    "# revenue employee_count\n",
    "# Tokyo   6500    8.0\n",
    "# Toronto 8000    NaN"
   ]
  },
  {
   "cell_type": "code",
   "execution_count": 56,
   "metadata": {},
   "outputs": [
    {
     "data": {
      "text/plain": [
       "revenue           6500.0\n",
       "employee_count       8.0\n",
       "Name: Tokyo, dtype: float64"
      ]
     },
     "execution_count": 56,
     "metadata": {},
     "output_type": "execute_result"
    }
   ],
   "source": [
    "city_data.iloc[1]\n",
    "# Expected:\n",
    "# revenue           6500.0\n",
    "# employee_count       8.0\n",
    "# Name: Tokyo, dtype: float64"
   ]
  },
  {
   "cell_type": "markdown",
   "metadata": {},
   "source": [
    "#### Exercise\n",
    "\n",
    "Display the 2nd last row of the `nba` dataset."
   ]
  },
  {
   "cell_type": "markdown",
   "metadata": {},
   "source": [
    "### Accessing a Subset of Rows and Columns in a `DataFrame` With `.loc` and `.iloc`"
   ]
  },
  {
   "cell_type": "code",
   "execution_count": 57,
   "metadata": {},
   "outputs": [
    {
     "data": {
      "text/plain": [
       "Amsterdam    4200\n",
       "Tokyo        6500\n",
       "Name: revenue, dtype: int64"
      ]
     },
     "execution_count": 57,
     "metadata": {},
     "output_type": "execute_result"
    }
   ],
   "source": [
    "city_data.loc[\"Amsterdam\":\"Tokyo\", \"revenue\"]\n",
    "# Expected:\n",
    "# Amsterdam    4200\n",
    "# Tokyo        6500\n",
    "# Name: revenue, dtype: int64"
   ]
  },
  {
   "cell_type": "markdown",
   "metadata": {},
   "source": [
    "#### Exercise\n",
    "\n",
    "Have a look at the games between the labels 5555 and 5559. We're interested only in the names of the teams and the scores."
   ]
  },
  {
   "cell_type": "markdown",
   "metadata": {},
   "source": [
    "## Queries With Pandas"
   ]
  },
  {
   "cell_type": "code",
   "execution_count": 58,
   "metadata": {},
   "outputs": [
    {
     "data": {
      "text/plain": [
       "(12658, 24)"
      ]
     },
     "execution_count": 58,
     "metadata": {},
     "output_type": "execute_result"
    }
   ],
   "source": [
    "current_decade = nba[nba[\"year_id\"] > 2010]\n",
    "current_decade.shape\n",
    "# Expected:\n",
    "# (12658, 24)"
   ]
  },
  {
   "cell_type": "code",
   "execution_count": 59,
   "metadata": {},
   "outputs": [
    {
     "data": {
      "text/plain": [
       "(5424, 24)"
      ]
     },
     "execution_count": 59,
     "metadata": {},
     "output_type": "execute_result"
    }
   ],
   "source": [
    "games_with_notes = nba[nba[\"notes\"].notnull()]\n",
    "games_with_notes.shape\n",
    "# Expected:\n",
    "# (5424, 24)"
   ]
  },
  {
   "cell_type": "code",
   "execution_count": 60,
   "metadata": {},
   "outputs": [
    {
     "data": {
      "text/plain": [
       "(27797, 24)"
      ]
     },
     "execution_count": 60,
     "metadata": {},
     "output_type": "execute_result"
    }
   ],
   "source": [
    "ers = nba[nba[\"fran_id\"].str.endswith(\"ers\")]\n",
    "ers.shape\n",
    "# Expected:\n",
    "# (27797, 24)"
   ]
  },
  {
   "cell_type": "code",
   "execution_count": 61,
   "metadata": {},
   "outputs": [
    {
     "data": {
      "text/html": [
       "<div>\n",
       "<style scoped>\n",
       "    .dataframe tbody tr th:only-of-type {\n",
       "        vertical-align: middle;\n",
       "    }\n",
       "\n",
       "    .dataframe tbody tr th {\n",
       "        vertical-align: top;\n",
       "    }\n",
       "\n",
       "    .dataframe thead th {\n",
       "        text-align: right;\n",
       "    }\n",
       "</style>\n",
       "<table border=\"1\" class=\"dataframe\">\n",
       "  <thead>\n",
       "    <tr style=\"text-align: right;\">\n",
       "      <th></th>\n",
       "      <th>gameorder</th>\n",
       "      <th>game_id</th>\n",
       "      <th>lg_id</th>\n",
       "      <th>_iscopy</th>\n",
       "      <th>year_id</th>\n",
       "      <th>date_game</th>\n",
       "      <th>seasongame</th>\n",
       "      <th>is_playoffs</th>\n",
       "      <th>team_id</th>\n",
       "      <th>fran_id</th>\n",
       "      <th>pts</th>\n",
       "      <th>elo_i</th>\n",
       "      <th>elo_n</th>\n",
       "      <th>win_equiv</th>\n",
       "      <th>opp_id</th>\n",
       "      <th>opp_fran</th>\n",
       "      <th>opp_pts</th>\n",
       "      <th>opp_elo_i</th>\n",
       "      <th>opp_elo_n</th>\n",
       "      <th>game_location</th>\n",
       "      <th>game_result</th>\n",
       "      <th>forecast</th>\n",
       "      <th>notes</th>\n",
       "      <th>date_played</th>\n",
       "    </tr>\n",
       "  </thead>\n",
       "  <tbody>\n",
       "    <tr>\n",
       "      <th>1726</th>\n",
       "      <td>864</td>\n",
       "      <td>194902260BLB</td>\n",
       "      <td>NBA</td>\n",
       "      <td>0</td>\n",
       "      <td>1949</td>\n",
       "      <td>2/26/1949</td>\n",
       "      <td>53</td>\n",
       "      <td>0</td>\n",
       "      <td>BLB</td>\n",
       "      <td>Baltimore</td>\n",
       "      <td>114</td>\n",
       "      <td>1421.94</td>\n",
       "      <td>1419.43</td>\n",
       "      <td>38.56</td>\n",
       "      <td>MNL</td>\n",
       "      <td>Lakers</td>\n",
       "      <td>115</td>\n",
       "      <td>1637.99</td>\n",
       "      <td>1640.49</td>\n",
       "      <td>H</td>\n",
       "      <td>L</td>\n",
       "      <td>0.34</td>\n",
       "      <td>NaN</td>\n",
       "      <td>1949-02-26</td>\n",
       "    </tr>\n",
       "    <tr>\n",
       "      <th>4890</th>\n",
       "      <td>2446</td>\n",
       "      <td>195301100BLB</td>\n",
       "      <td>NBA</td>\n",
       "      <td>0</td>\n",
       "      <td>1953</td>\n",
       "      <td>1/10/1953</td>\n",
       "      <td>32</td>\n",
       "      <td>0</td>\n",
       "      <td>BLB</td>\n",
       "      <td>Baltimore</td>\n",
       "      <td>126</td>\n",
       "      <td>1328.67</td>\n",
       "      <td>1356.65</td>\n",
       "      <td>25.80</td>\n",
       "      <td>BOS</td>\n",
       "      <td>Celtics</td>\n",
       "      <td>105</td>\n",
       "      <td>1591.14</td>\n",
       "      <td>1563.17</td>\n",
       "      <td>H</td>\n",
       "      <td>W</td>\n",
       "      <td>0.28</td>\n",
       "      <td>NaN</td>\n",
       "      <td>1953-01-10</td>\n",
       "    </tr>\n",
       "    <tr>\n",
       "      <th>4909</th>\n",
       "      <td>2455</td>\n",
       "      <td>195301140BLB</td>\n",
       "      <td>NBA</td>\n",
       "      <td>0</td>\n",
       "      <td>1953</td>\n",
       "      <td>1/14/1953</td>\n",
       "      <td>34</td>\n",
       "      <td>0</td>\n",
       "      <td>BLB</td>\n",
       "      <td>Baltimore</td>\n",
       "      <td>104</td>\n",
       "      <td>1349.83</td>\n",
       "      <td>1346.36</td>\n",
       "      <td>24.88</td>\n",
       "      <td>MNL</td>\n",
       "      <td>Lakers</td>\n",
       "      <td>112</td>\n",
       "      <td>1665.44</td>\n",
       "      <td>1668.91</td>\n",
       "      <td>H</td>\n",
       "      <td>L</td>\n",
       "      <td>0.22</td>\n",
       "      <td>NaN</td>\n",
       "      <td>1953-01-14</td>\n",
       "    </tr>\n",
       "    <tr>\n",
       "      <th>5208</th>\n",
       "      <td>2605</td>\n",
       "      <td>195303110BLB</td>\n",
       "      <td>NBA</td>\n",
       "      <td>0</td>\n",
       "      <td>1953</td>\n",
       "      <td>3/11/1953</td>\n",
       "      <td>66</td>\n",
       "      <td>0</td>\n",
       "      <td>BLB</td>\n",
       "      <td>Baltimore</td>\n",
       "      <td>107</td>\n",
       "      <td>1284.52</td>\n",
       "      <td>1282.24</td>\n",
       "      <td>19.58</td>\n",
       "      <td>NYK</td>\n",
       "      <td>Knicks</td>\n",
       "      <td>113</td>\n",
       "      <td>1649.15</td>\n",
       "      <td>1651.44</td>\n",
       "      <td>H</td>\n",
       "      <td>L</td>\n",
       "      <td>0.18</td>\n",
       "      <td>at Boston MA</td>\n",
       "      <td>1953-03-11</td>\n",
       "    </tr>\n",
       "    <tr>\n",
       "      <th>5825</th>\n",
       "      <td>2913</td>\n",
       "      <td>195402220BLB</td>\n",
       "      <td>NBA</td>\n",
       "      <td>0</td>\n",
       "      <td>1954</td>\n",
       "      <td>2/22/1954</td>\n",
       "      <td>60</td>\n",
       "      <td>0</td>\n",
       "      <td>BLB</td>\n",
       "      <td>Baltimore</td>\n",
       "      <td>110</td>\n",
       "      <td>1303.75</td>\n",
       "      <td>1301.97</td>\n",
       "      <td>20.74</td>\n",
       "      <td>BOS</td>\n",
       "      <td>Celtics</td>\n",
       "      <td>111</td>\n",
       "      <td>1591.49</td>\n",
       "      <td>1593.27</td>\n",
       "      <td>H</td>\n",
       "      <td>L</td>\n",
       "      <td>0.25</td>\n",
       "      <td>at Worcester MA</td>\n",
       "      <td>1954-02-22</td>\n",
       "    </tr>\n",
       "  </tbody>\n",
       "</table>\n",
       "</div>"
      ],
      "text/plain": [
       "      gameorder       game_id lg_id  _iscopy  year_id  date_game  seasongame  \\\n",
       "1726        864  194902260BLB   NBA        0     1949  2/26/1949          53   \n",
       "4890       2446  195301100BLB   NBA        0     1953  1/10/1953          32   \n",
       "4909       2455  195301140BLB   NBA        0     1953  1/14/1953          34   \n",
       "5208       2605  195303110BLB   NBA        0     1953  3/11/1953          66   \n",
       "5825       2913  195402220BLB   NBA        0     1954  2/22/1954          60   \n",
       "\n",
       "      is_playoffs team_id    fran_id  pts    elo_i    elo_n  win_equiv opp_id  \\\n",
       "1726            0     BLB  Baltimore  114  1421.94  1419.43      38.56    MNL   \n",
       "4890            0     BLB  Baltimore  126  1328.67  1356.65      25.80    BOS   \n",
       "4909            0     BLB  Baltimore  104  1349.83  1346.36      24.88    MNL   \n",
       "5208            0     BLB  Baltimore  107  1284.52  1282.24      19.58    NYK   \n",
       "5825            0     BLB  Baltimore  110  1303.75  1301.97      20.74    BOS   \n",
       "\n",
       "     opp_fran  opp_pts  opp_elo_i  opp_elo_n game_location game_result  \\\n",
       "1726   Lakers      115    1637.99    1640.49             H           L   \n",
       "4890  Celtics      105    1591.14    1563.17             H           W   \n",
       "4909   Lakers      112    1665.44    1668.91             H           L   \n",
       "5208   Knicks      113    1649.15    1651.44             H           L   \n",
       "5825  Celtics      111    1591.49    1593.27             H           L   \n",
       "\n",
       "      forecast            notes date_played  \n",
       "1726      0.34              NaN  1949-02-26  \n",
       "4890      0.28              NaN  1953-01-10  \n",
       "4909      0.22              NaN  1953-01-14  \n",
       "5208      0.18     at Boston MA  1953-03-11  \n",
       "5825      0.25  at Worcester MA  1954-02-22  "
      ]
     },
     "execution_count": 61,
     "metadata": {},
     "output_type": "execute_result"
    }
   ],
   "source": [
    "nba[\n",
    "    (nba[\"_iscopy\"] == 0)\n",
    "    & (nba[\"pts\"] > 100)\n",
    "    & (nba[\"opp_pts\"] > 100)\n",
    "    & (nba[\"team_id\"] == \"BLB\")\n",
    "]"
   ]
  },
  {
   "cell_type": "markdown",
   "metadata": {},
   "source": [
    "#### Exercise\n",
    "\n",
    "In the spring of 1992, both teams from Los Angeles had to play a home game at another court. Find those 2 games. (Both teams have an ID starting with \"LA\".)"
   ]
  },
  {
   "cell_type": "markdown",
   "metadata": {},
   "source": [
    "## Aggregations"
   ]
  },
  {
   "cell_type": "markdown",
   "metadata": {},
   "source": [
    "### Aggregations for `Series`"
   ]
  },
  {
   "cell_type": "code",
   "execution_count": 62,
   "metadata": {},
   "outputs": [
    {
     "data": {
      "text/plain": [
       "18700"
      ]
     },
     "execution_count": 62,
     "metadata": {},
     "output_type": "execute_result"
    }
   ],
   "source": [
    "city_revenues.sum()\n",
    "# Expected:\n",
    "# 18700"
   ]
  },
  {
   "cell_type": "code",
   "execution_count": 63,
   "metadata": {},
   "outputs": [
    {
     "data": {
      "text/plain": [
       "8000"
      ]
     },
     "execution_count": 63,
     "metadata": {},
     "output_type": "execute_result"
    }
   ],
   "source": [
    "city_revenues.max()\n",
    "# Expected:\n",
    "# 8000"
   ]
  },
  {
   "cell_type": "markdown",
   "metadata": {},
   "source": [
    "### Aggregations for `DataFrame`"
   ]
  },
  {
   "cell_type": "code",
   "execution_count": 64,
   "metadata": {},
   "outputs": [
    {
     "data": {
      "text/plain": [
       "pandas.core.series.Series"
      ]
     },
     "execution_count": 64,
     "metadata": {},
     "output_type": "execute_result"
    }
   ],
   "source": [
    "points = nba[\"pts\"]\n",
    "type(points)\n",
    "# Expected:\n",
    "# <class 'pandas.core.series.Series'>"
   ]
  },
  {
   "cell_type": "code",
   "execution_count": 65,
   "metadata": {},
   "outputs": [
    {
     "data": {
      "text/plain": [
       "12976235"
      ]
     },
     "execution_count": 65,
     "metadata": {},
     "output_type": "execute_result"
    }
   ],
   "source": [
    "points.sum()\n",
    "# Expected:\n",
    "# 12976235"
   ]
  },
  {
   "cell_type": "markdown",
   "metadata": {},
   "source": [
    "### Grouping"
   ]
  },
  {
   "cell_type": "code",
   "execution_count": 66,
   "metadata": {},
   "outputs": [
    {
     "data": {
      "text/plain": [
       "fran_id\n",
       "Huskies           3995\n",
       "Knicks          582497\n",
       "Stags            20398\n",
       "Falcons           3797\n",
       "Capitols         22387\n",
       "Celtics         626484\n",
       "Steamrollers     12372\n",
       "Ironmen           3674\n",
       "Bombers          17793\n",
       "Rebels            4474\n",
       "Warriors        591224\n",
       "Baltimore        37219\n",
       "Jets              4482\n",
       "Pistons         572758\n",
       "Lakers          637444\n",
       "Kings           569245\n",
       "Hawks           567261\n",
       "Denver            4818\n",
       "Olympians        22864\n",
       "Redskins          5372\n",
       "Waterloo          4921\n",
       "Packers           6193\n",
       "Sixers          585891\n",
       "Wizards         474809\n",
       "Bulls           437269\n",
       "Thunder         437735\n",
       "Squires          91127\n",
       "Stars            84940\n",
       "Rockets         432504\n",
       "Colonels         94435\n",
       "Pacers          438288\n",
       "Nuggets         445780\n",
       "Spurs           453822\n",
       "Spirits          85874\n",
       "Sounds           75582\n",
       "Floridians       49568\n",
       "Nets            417809\n",
       "Condors          49642\n",
       "Bucks           418326\n",
       "Suns            437486\n",
       "Clippers        380523\n",
       "Cavaliers       380416\n",
       "Trailblazers    402695\n",
       "Sails            30080\n",
       "Jazz            363155\n",
       "Mavericks       309239\n",
       "Pelicans        220794\n",
       "Heat            229103\n",
       "Timberwolves    207693\n",
       "Magic           219436\n",
       "Grizzlies       157683\n",
       "Raptors         158370\n",
       "Hornets          84489\n",
       "Name: pts, dtype: int64"
      ]
     },
     "execution_count": 66,
     "metadata": {},
     "output_type": "execute_result"
    }
   ],
   "source": [
    "nba.groupby(\"fran_id\", sort=False)[\"pts\"].sum()\n",
    "# Expected:\n",
    "# fran_id\n",
    "# Huskies           3995\n",
    "# Knicks          582497\n",
    "# Stags            20398\n",
    "# Falcons           3797\n",
    "# Capitols         22387"
   ]
  },
  {
   "cell_type": "code",
   "execution_count": 67,
   "metadata": {},
   "outputs": [
    {
     "data": {
      "text/plain": [
       "year_id  game_result\n",
       "2011     L              25\n",
       "         W              63\n",
       "2012     L              20\n",
       "         W              60\n",
       "2013     L              30\n",
       "         W              73\n",
       "2014     L              27\n",
       "         W              78\n",
       "2015     L              31\n",
       "         W              58\n",
       "Name: game_id, dtype: int64"
      ]
     },
     "execution_count": 67,
     "metadata": {},
     "output_type": "execute_result"
    }
   ],
   "source": [
    "nba[(nba[\"fran_id\"] == \"Spurs\") & (nba[\"year_id\"] > 2010)].groupby(\n",
    "    [\"year_id\", \"game_result\"]\n",
    ")[\"game_id\"].count()\n",
    "# Expected:\n",
    "# year_id  game_result\n",
    "# 2011     L              25\n",
    "# W              63\n",
    "# 2012     L              20\n",
    "# W              60\n",
    "# 2013     L              30\n",
    "# W              73\n",
    "# 2014     L              27\n",
    "# W              78\n",
    "# 2015     L              31\n",
    "# W              58\n",
    "# Name: game_id, dtype: int64"
   ]
  },
  {
   "cell_type": "markdown",
   "metadata": {},
   "source": [
    "#### Exercise\n",
    "\n",
    "Let's have a look at the Golden State Warriors' season in 2014-15 (year_id: 2015). How many wins and losses did they score during the regular season and the playoffs?"
   ]
  },
  {
   "cell_type": "markdown",
   "metadata": {},
   "source": [
    "## Manipulating Columns"
   ]
  },
  {
   "cell_type": "code",
   "execution_count": 68,
   "metadata": {},
   "outputs": [
    {
     "data": {
      "text/plain": [
       "(126314, 24)"
      ]
     },
     "execution_count": 68,
     "metadata": {},
     "output_type": "execute_result"
    }
   ],
   "source": [
    "df = nba.copy()\n",
    "df.shape\n",
    "# Expected:\n",
    "# (126314, 24)"
   ]
  },
  {
   "cell_type": "markdown",
   "metadata": {},
   "source": [
    "### Adding New Columns"
   ]
  },
  {
   "cell_type": "code",
   "execution_count": 69,
   "metadata": {},
   "outputs": [
    {
     "data": {
      "text/plain": [
       "(126314, 25)"
      ]
     },
     "execution_count": 69,
     "metadata": {},
     "output_type": "execute_result"
    }
   ],
   "source": [
    "df[\"difference\"] = df.pts - df.opp_pts\n",
    "df.shape\n",
    "# Expected:\n",
    "# (126314, 25)"
   ]
  },
  {
   "cell_type": "code",
   "execution_count": 70,
   "metadata": {},
   "outputs": [
    {
     "data": {
      "text/plain": [
       "68"
      ]
     },
     "execution_count": 70,
     "metadata": {},
     "output_type": "execute_result"
    }
   ],
   "source": [
    "df[\"difference\"].max()\n",
    "# Expected:\n",
    "# 68"
   ]
  },
  {
   "cell_type": "markdown",
   "metadata": {},
   "source": [
    "### Renaming Columns"
   ]
  },
  {
   "cell_type": "code",
   "execution_count": 71,
   "metadata": {},
   "outputs": [
    {
     "name": "stdout",
     "output_type": "stream",
     "text": [
      "<class 'pandas.core.frame.DataFrame'>\n",
      "RangeIndex: 126314 entries, 0 to 126313\n",
      "Data columns (total 25 columns):\n",
      " #   Column       Non-Null Count   Dtype         \n",
      "---  ------       --------------   -----         \n",
      " 0   gameorder    126314 non-null  int64         \n",
      " 1   game_id      126314 non-null  object        \n",
      " 2   lg_id        126314 non-null  object        \n",
      " 3   _iscopy      126314 non-null  int64         \n",
      " 4   year_id      126314 non-null  int64         \n",
      " 5   date_game    126314 non-null  object        \n",
      " 6   seasongame   126314 non-null  int64         \n",
      " 7   is_playoffs  126314 non-null  int64         \n",
      " 8   team_id      126314 non-null  object        \n",
      " 9   fran_id      126314 non-null  object        \n",
      " 10  pts          126314 non-null  int64         \n",
      " 11  elo_i        126314 non-null  float64       \n",
      " 12  elo_n        126314 non-null  float64       \n",
      " 13  win_equiv    126314 non-null  float64       \n",
      " 14  opp_id       126314 non-null  object        \n",
      " 15  opp_fran     126314 non-null  object        \n",
      " 16  opp_pts      126314 non-null  int64         \n",
      " 17  opp_elo_i    126314 non-null  float64       \n",
      " 18  opp_elo_n    126314 non-null  float64       \n",
      " 19  location     126314 non-null  object        \n",
      " 20  result       126314 non-null  object        \n",
      " 21  forecast     126314 non-null  float64       \n",
      " 22  notes        5424 non-null    object        \n",
      " 23  date_played  126314 non-null  datetime64[ns]\n",
      " 24  difference   126314 non-null  int64         \n",
      "dtypes: datetime64[ns](1), float64(6), int64(8), object(10)\n",
      "memory usage: 24.1+ MB\n"
     ]
    }
   ],
   "source": [
    "renamed_df = df.rename(\n",
    "    columns={\"game_result\": \"result\", \"game_location\": \"location\"}\n",
    ")\n",
    "renamed_df.info()\n",
    "# Expected:\n",
    "# <class 'pandas.core.frame.DataFrame'>\n",
    "# RangeIndex: 126314 entries, 0 to 126313\n",
    "# Data columns (total 25 columns):\n",
    "# gameorder      126314 non-null int64\n",
    "\n",
    "# location       126314 non-null object\n",
    "# result         126314 non-null object\n",
    "# forecast       126314 non-null float64\n",
    "# notes          5424 non-null object\n",
    "# date_played    126314 non-null datetime64[ns]\n",
    "# difference     126314 non-null int64\n",
    "# dtypes: datetime64[ns](1), float64(6), int64(8), object(10)\n",
    "# memory usage: 24.1+ MB"
   ]
  },
  {
   "cell_type": "markdown",
   "metadata": {},
   "source": [
    "### Deleting Columns"
   ]
  },
  {
   "cell_type": "code",
   "execution_count": 72,
   "metadata": {},
   "outputs": [
    {
     "data": {
      "text/plain": [
       "(126314, 25)"
      ]
     },
     "execution_count": 72,
     "metadata": {},
     "output_type": "execute_result"
    }
   ],
   "source": [
    "df.shape\n",
    "# Expected:\n",
    "# (126314, 25)"
   ]
  },
  {
   "cell_type": "code",
   "execution_count": 73,
   "metadata": {},
   "outputs": [
    {
     "data": {
      "text/plain": [
       "(126314, 21)"
      ]
     },
     "execution_count": 73,
     "metadata": {},
     "output_type": "execute_result"
    }
   ],
   "source": [
    "elo_columns = [\"elo_i\", \"elo_n\", \"opp_elo_i\", \"opp_elo_n\"]\n",
    "df.drop(elo_columns, inplace=True, axis=1)\n",
    "df.shape\n",
    "# Expected:\n",
    "# (126314, 21)"
   ]
  },
  {
   "cell_type": "markdown",
   "metadata": {},
   "source": [
    "### Changing the Data Type of Columns"
   ]
  },
  {
   "cell_type": "code",
   "execution_count": 74,
   "metadata": {},
   "outputs": [
    {
     "name": "stdout",
     "output_type": "stream",
     "text": [
      "<class 'pandas.core.frame.DataFrame'>\n",
      "RangeIndex: 126314 entries, 0 to 126313\n",
      "Data columns (total 21 columns):\n",
      " #   Column         Non-Null Count   Dtype         \n",
      "---  ------         --------------   -----         \n",
      " 0   gameorder      126314 non-null  int64         \n",
      " 1   game_id        126314 non-null  object        \n",
      " 2   lg_id          126314 non-null  object        \n",
      " 3   _iscopy        126314 non-null  int64         \n",
      " 4   year_id        126314 non-null  int64         \n",
      " 5   date_game      126314 non-null  object        \n",
      " 6   seasongame     126314 non-null  int64         \n",
      " 7   is_playoffs    126314 non-null  int64         \n",
      " 8   team_id        126314 non-null  object        \n",
      " 9   fran_id        126314 non-null  object        \n",
      " 10  pts            126314 non-null  int64         \n",
      " 11  win_equiv      126314 non-null  float64       \n",
      " 12  opp_id         126314 non-null  object        \n",
      " 13  opp_fran       126314 non-null  object        \n",
      " 14  opp_pts        126314 non-null  int64         \n",
      " 15  game_location  126314 non-null  object        \n",
      " 16  game_result    126314 non-null  object        \n",
      " 17  forecast       126314 non-null  float64       \n",
      " 18  notes          5424 non-null    object        \n",
      " 19  date_played    126314 non-null  datetime64[ns]\n",
      " 20  difference     126314 non-null  int64         \n",
      "dtypes: datetime64[ns](1), float64(2), int64(8), object(10)\n",
      "memory usage: 20.2+ MB\n"
     ]
    }
   ],
   "source": [
    "df.info()"
   ]
  },
  {
   "cell_type": "code",
   "execution_count": 75,
   "metadata": {},
   "outputs": [],
   "source": [
    "df[\"date_game\"] = pd.to_datetime(df[\"date_game\"])"
   ]
  },
  {
   "cell_type": "code",
   "execution_count": 76,
   "metadata": {},
   "outputs": [
    {
     "data": {
      "text/plain": [
       "3"
      ]
     },
     "execution_count": 76,
     "metadata": {},
     "output_type": "execute_result"
    }
   ],
   "source": [
    "df[\"game_location\"].nunique()\n",
    "# Expected:\n",
    "# 3"
   ]
  },
  {
   "cell_type": "code",
   "execution_count": 77,
   "metadata": {},
   "outputs": [
    {
     "data": {
      "text/plain": [
       "H    63138\n",
       "A    63138\n",
       "N       38\n",
       "Name: game_location, dtype: int64"
      ]
     },
     "execution_count": 77,
     "metadata": {},
     "output_type": "execute_result"
    }
   ],
   "source": [
    "df[\"game_location\"].value_counts()\n",
    "# Expected:\n",
    "# A    63138\n",
    "# H    63138\n",
    "# N       38\n",
    "# Name: game_location, dtype: int64"
   ]
  },
  {
   "cell_type": "code",
   "execution_count": 78,
   "metadata": {},
   "outputs": [
    {
     "data": {
      "text/plain": [
       "CategoricalDtype(categories=['A', 'H', 'N'], ordered=False)"
      ]
     },
     "execution_count": 78,
     "metadata": {},
     "output_type": "execute_result"
    }
   ],
   "source": [
    "df[\"game_location\"] = pd.Categorical(df[\"game_location\"])\n",
    "df[\"game_location\"].dtype\n",
    "# Expected:\n",
    "# CategoricalDtype(categories=['A', 'H', 'N'], ordered=False)"
   ]
  },
  {
   "cell_type": "markdown",
   "metadata": {},
   "source": [
    "#### Exercise\n",
    "\n",
    "Find another column which has a too generic data type."
   ]
  },
  {
   "cell_type": "markdown",
   "metadata": {},
   "source": [
    "## Cleaning Data"
   ]
  },
  {
   "cell_type": "markdown",
   "metadata": {},
   "source": [
    "### Missing Values"
   ]
  },
  {
   "cell_type": "code",
   "execution_count": 79,
   "metadata": {},
   "outputs": [
    {
     "name": "stdout",
     "output_type": "stream",
     "text": [
      "<class 'pandas.core.frame.DataFrame'>\n",
      "RangeIndex: 126314 entries, 0 to 126313\n",
      "Data columns (total 24 columns):\n",
      " #   Column         Non-Null Count   Dtype         \n",
      "---  ------         --------------   -----         \n",
      " 0   gameorder      126314 non-null  int64         \n",
      " 1   game_id        126314 non-null  object        \n",
      " 2   lg_id          126314 non-null  object        \n",
      " 3   _iscopy        126314 non-null  int64         \n",
      " 4   year_id        126314 non-null  int64         \n",
      " 5   date_game      126314 non-null  object        \n",
      " 6   seasongame     126314 non-null  int64         \n",
      " 7   is_playoffs    126314 non-null  int64         \n",
      " 8   team_id        126314 non-null  object        \n",
      " 9   fran_id        126314 non-null  object        \n",
      " 10  pts            126314 non-null  int64         \n",
      " 11  elo_i          126314 non-null  float64       \n",
      " 12  elo_n          126314 non-null  float64       \n",
      " 13  win_equiv      126314 non-null  float64       \n",
      " 14  opp_id         126314 non-null  object        \n",
      " 15  opp_fran       126314 non-null  object        \n",
      " 16  opp_pts        126314 non-null  int64         \n",
      " 17  opp_elo_i      126314 non-null  float64       \n",
      " 18  opp_elo_n      126314 non-null  float64       \n",
      " 19  game_location  126314 non-null  object        \n",
      " 20  game_result    126314 non-null  object        \n",
      " 21  forecast       126314 non-null  float64       \n",
      " 22  notes          5424 non-null    object        \n",
      " 23  date_played    126314 non-null  datetime64[ns]\n",
      "dtypes: datetime64[ns](1), float64(6), int64(7), object(10)\n",
      "memory usage: 23.1+ MB\n"
     ]
    }
   ],
   "source": [
    "nba.info()"
   ]
  },
  {
   "cell_type": "code",
   "execution_count": 80,
   "metadata": {},
   "outputs": [
    {
     "data": {
      "text/plain": [
       "(5424, 24)"
      ]
     },
     "execution_count": 80,
     "metadata": {},
     "output_type": "execute_result"
    }
   ],
   "source": [
    "rows_without_missing_data = nba.dropna()\n",
    "rows_without_missing_data.shape\n",
    "# Expected:\n",
    "# (5424, 24)"
   ]
  },
  {
   "cell_type": "code",
   "execution_count": 81,
   "metadata": {},
   "outputs": [
    {
     "data": {
      "text/plain": [
       "(126314, 23)"
      ]
     },
     "execution_count": 81,
     "metadata": {},
     "output_type": "execute_result"
    }
   ],
   "source": [
    "data_without_missing_columns = nba.dropna(axis=1)\n",
    "data_without_missing_columns.shape\n",
    "# Expected:\n",
    "# (126314, 23)"
   ]
  },
  {
   "cell_type": "code",
   "execution_count": 82,
   "metadata": {},
   "outputs": [
    {
     "data": {
      "text/plain": [
       "count              126314\n",
       "unique                232\n",
       "top       no notes at all\n",
       "freq               120890\n",
       "Name: notes, dtype: object"
      ]
     },
     "execution_count": 82,
     "metadata": {},
     "output_type": "execute_result"
    }
   ],
   "source": [
    "data_with_default_notes = nba.copy()\n",
    "data_with_default_notes[\"notes\"].fillna(value=\"no notes at all\", inplace=True)\n",
    "data_with_default_notes[\"notes\"].describe()\n",
    "# Expected:\n",
    "# count              126314\n",
    "# unique                232\n",
    "# top       no notes at all\n",
    "# freq               120890\n",
    "# Name: notes, dtype: object"
   ]
  },
  {
   "cell_type": "markdown",
   "metadata": {},
   "source": [
    "### Invalid Values"
   ]
  },
  {
   "cell_type": "code",
   "execution_count": 83,
   "metadata": {},
   "outputs": [
    {
     "data": {
      "text/html": [
       "<div>\n",
       "<style scoped>\n",
       "    .dataframe tbody tr th:only-of-type {\n",
       "        vertical-align: middle;\n",
       "    }\n",
       "\n",
       "    .dataframe tbody tr th {\n",
       "        vertical-align: top;\n",
       "    }\n",
       "\n",
       "    .dataframe thead th {\n",
       "        text-align: right;\n",
       "    }\n",
       "</style>\n",
       "<table border=\"1\" class=\"dataframe\">\n",
       "  <thead>\n",
       "    <tr style=\"text-align: right;\">\n",
       "      <th></th>\n",
       "      <th>gameorder</th>\n",
       "      <th>game_id</th>\n",
       "      <th>lg_id</th>\n",
       "      <th>_iscopy</th>\n",
       "      <th>year_id</th>\n",
       "      <th>date_game</th>\n",
       "      <th>seasongame</th>\n",
       "      <th>is_playoffs</th>\n",
       "      <th>team_id</th>\n",
       "      <th>fran_id</th>\n",
       "      <th>pts</th>\n",
       "      <th>elo_i</th>\n",
       "      <th>elo_n</th>\n",
       "      <th>win_equiv</th>\n",
       "      <th>opp_id</th>\n",
       "      <th>opp_fran</th>\n",
       "      <th>opp_pts</th>\n",
       "      <th>opp_elo_i</th>\n",
       "      <th>opp_elo_n</th>\n",
       "      <th>game_location</th>\n",
       "      <th>game_result</th>\n",
       "      <th>forecast</th>\n",
       "      <th>notes</th>\n",
       "      <th>date_played</th>\n",
       "    </tr>\n",
       "  </thead>\n",
       "  <tbody>\n",
       "    <tr>\n",
       "      <th>26684</th>\n",
       "      <td>13343</td>\n",
       "      <td>197210260VIR</td>\n",
       "      <td>ABA</td>\n",
       "      <td>1</td>\n",
       "      <td>1973</td>\n",
       "      <td>10/26/1972</td>\n",
       "      <td>7</td>\n",
       "      <td>0</td>\n",
       "      <td>DNR</td>\n",
       "      <td>Nuggets</td>\n",
       "      <td>0</td>\n",
       "      <td>1460.34</td>\n",
       "      <td>1457.45</td>\n",
       "      <td>40.41</td>\n",
       "      <td>VIR</td>\n",
       "      <td>Squires</td>\n",
       "      <td>2</td>\n",
       "      <td>1484.19</td>\n",
       "      <td>1487.08</td>\n",
       "      <td>A</td>\n",
       "      <td>L</td>\n",
       "      <td>0.33</td>\n",
       "      <td>at Richmond VA; forfeit to VIR</td>\n",
       "      <td>1972-10-26</td>\n",
       "    </tr>\n",
       "  </tbody>\n",
       "</table>\n",
       "</div>"
      ],
      "text/plain": [
       "       gameorder       game_id lg_id  _iscopy  year_id   date_game  \\\n",
       "26684      13343  197210260VIR   ABA        1     1973  10/26/1972   \n",
       "\n",
       "       seasongame  is_playoffs team_id  fran_id  pts    elo_i    elo_n  \\\n",
       "26684           7            0     DNR  Nuggets    0  1460.34  1457.45   \n",
       "\n",
       "       win_equiv opp_id opp_fran  opp_pts  opp_elo_i  opp_elo_n game_location  \\\n",
       "26684      40.41    VIR  Squires        2    1484.19    1487.08             A   \n",
       "\n",
       "      game_result  forecast                           notes date_played  \n",
       "26684           L      0.33  at Richmond VA; forfeit to VIR  1972-10-26  "
      ]
     },
     "execution_count": 83,
     "metadata": {},
     "output_type": "execute_result"
    }
   ],
   "source": [
    "nba[nba[\"pts\"] == 0]"
   ]
  },
  {
   "cell_type": "markdown",
   "metadata": {},
   "source": [
    "### Inconsistencies Between Values in Different Columns"
   ]
  },
  {
   "cell_type": "code",
   "execution_count": 84,
   "metadata": {},
   "outputs": [
    {
     "data": {
      "text/plain": [
       "True"
      ]
     },
     "execution_count": 84,
     "metadata": {},
     "output_type": "execute_result"
    }
   ],
   "source": [
    "nba[(nba[\"pts\"] > nba[\"opp_pts\"]) & (nba[\"game_result\"] != \"W\")].empty\n",
    "# Expected:\n",
    "# True"
   ]
  },
  {
   "cell_type": "code",
   "execution_count": 85,
   "metadata": {},
   "outputs": [
    {
     "data": {
      "text/plain": [
       "True"
      ]
     },
     "execution_count": 85,
     "metadata": {},
     "output_type": "execute_result"
    }
   ],
   "source": [
    "nba[(nba[\"pts\"] < nba[\"opp_pts\"]) & (nba[\"game_result\"] != \"L\")].empty\n",
    "# Expected:\n",
    "# True"
   ]
  },
  {
   "cell_type": "markdown",
   "metadata": {},
   "source": [
    "## Working With Multiple Datasets in Pandas"
   ]
  },
  {
   "cell_type": "markdown",
   "metadata": {},
   "source": [
    "### Combining Data Based on the Index With `concat()`"
   ]
  },
  {
   "cell_type": "code",
   "execution_count": 86,
   "metadata": {},
   "outputs": [
    {
     "data": {
      "text/html": [
       "<div>\n",
       "<style scoped>\n",
       "    .dataframe tbody tr th:only-of-type {\n",
       "        vertical-align: middle;\n",
       "    }\n",
       "\n",
       "    .dataframe tbody tr th {\n",
       "        vertical-align: top;\n",
       "    }\n",
       "\n",
       "    .dataframe thead th {\n",
       "        text-align: right;\n",
       "    }\n",
       "</style>\n",
       "<table border=\"1\" class=\"dataframe\">\n",
       "  <thead>\n",
       "    <tr style=\"text-align: right;\">\n",
       "      <th></th>\n",
       "      <th>revenue</th>\n",
       "      <th>employee_count</th>\n",
       "    </tr>\n",
       "  </thead>\n",
       "  <tbody>\n",
       "    <tr>\n",
       "      <th>Amsterdam</th>\n",
       "      <td>4200</td>\n",
       "      <td>5.0</td>\n",
       "    </tr>\n",
       "    <tr>\n",
       "      <th>Tokyo</th>\n",
       "      <td>6500</td>\n",
       "      <td>8.0</td>\n",
       "    </tr>\n",
       "    <tr>\n",
       "      <th>Toronto</th>\n",
       "      <td>8000</td>\n",
       "      <td>NaN</td>\n",
       "    </tr>\n",
       "    <tr>\n",
       "      <th>New York</th>\n",
       "      <td>7000</td>\n",
       "      <td>2.0</td>\n",
       "    </tr>\n",
       "    <tr>\n",
       "      <th>Barcelona</th>\n",
       "      <td>3400</td>\n",
       "      <td>2.0</td>\n",
       "    </tr>\n",
       "  </tbody>\n",
       "</table>\n",
       "</div>"
      ],
      "text/plain": [
       "           revenue  employee_count\n",
       "Amsterdam     4200             5.0\n",
       "Tokyo         6500             8.0\n",
       "Toronto       8000             NaN\n",
       "New York      7000             2.0\n",
       "Barcelona     3400             2.0"
      ]
     },
     "execution_count": 86,
     "metadata": {},
     "output_type": "execute_result"
    }
   ],
   "source": [
    "further_city_data = pd.DataFrame(\n",
    "    {\"revenue\": [7000, 3400], \"employee_count\": [2, 2]},\n",
    "    index=[\"New York\", \"Barcelona\"],\n",
    ")\n",
    "all_city_data = pd.concat([city_data, further_city_data], sort=False)\n",
    "all_city_data\n",
    "# Expected:\n",
    "# Amsterdam   4200    5.0\n",
    "# Tokyo       6500    8.0\n",
    "# Toronto     8000    NaN\n",
    "# New York    7000    2.0\n",
    "# Barcelona   3400    2.0"
   ]
  },
  {
   "cell_type": "code",
   "execution_count": 87,
   "metadata": {},
   "outputs": [
    {
     "data": {
      "text/html": [
       "<div>\n",
       "<style scoped>\n",
       "    .dataframe tbody tr th:only-of-type {\n",
       "        vertical-align: middle;\n",
       "    }\n",
       "\n",
       "    .dataframe tbody tr th {\n",
       "        vertical-align: top;\n",
       "    }\n",
       "\n",
       "    .dataframe thead th {\n",
       "        text-align: right;\n",
       "    }\n",
       "</style>\n",
       "<table border=\"1\" class=\"dataframe\">\n",
       "  <thead>\n",
       "    <tr style=\"text-align: right;\">\n",
       "      <th></th>\n",
       "      <th>revenue</th>\n",
       "      <th>employee_count</th>\n",
       "      <th>country</th>\n",
       "      <th>capital</th>\n",
       "    </tr>\n",
       "  </thead>\n",
       "  <tbody>\n",
       "    <tr>\n",
       "      <th>Amsterdam</th>\n",
       "      <td>4200.0</td>\n",
       "      <td>5.0</td>\n",
       "      <td>Holland</td>\n",
       "      <td>1.0</td>\n",
       "    </tr>\n",
       "    <tr>\n",
       "      <th>Tokyo</th>\n",
       "      <td>6500.0</td>\n",
       "      <td>8.0</td>\n",
       "      <td>Japan</td>\n",
       "      <td>1.0</td>\n",
       "    </tr>\n",
       "    <tr>\n",
       "      <th>Toronto</th>\n",
       "      <td>8000.0</td>\n",
       "      <td>NaN</td>\n",
       "      <td>Canada</td>\n",
       "      <td>0.0</td>\n",
       "    </tr>\n",
       "    <tr>\n",
       "      <th>New York</th>\n",
       "      <td>7000.0</td>\n",
       "      <td>2.0</td>\n",
       "      <td>NaN</td>\n",
       "      <td>NaN</td>\n",
       "    </tr>\n",
       "    <tr>\n",
       "      <th>Barcelona</th>\n",
       "      <td>3400.0</td>\n",
       "      <td>2.0</td>\n",
       "      <td>Spain</td>\n",
       "      <td>0.0</td>\n",
       "    </tr>\n",
       "    <tr>\n",
       "      <th>Rotterdam</th>\n",
       "      <td>NaN</td>\n",
       "      <td>NaN</td>\n",
       "      <td>Holland</td>\n",
       "      <td>0.0</td>\n",
       "    </tr>\n",
       "  </tbody>\n",
       "</table>\n",
       "</div>"
      ],
      "text/plain": [
       "           revenue  employee_count  country  capital\n",
       "Amsterdam   4200.0             5.0  Holland      1.0\n",
       "Tokyo       6500.0             8.0    Japan      1.0\n",
       "Toronto     8000.0             NaN   Canada      0.0\n",
       "New York    7000.0             2.0      NaN      NaN\n",
       "Barcelona   3400.0             2.0    Spain      0.0\n",
       "Rotterdam      NaN             NaN  Holland      0.0"
      ]
     },
     "execution_count": 87,
     "metadata": {},
     "output_type": "execute_result"
    }
   ],
   "source": [
    "city_countries = pd.DataFrame(\n",
    "    {\n",
    "        \"country\": [\"Holland\", \"Japan\", \"Holland\", \"Canada\", \"Spain\"],\n",
    "        \"capital\": [1, 1, 0, 0, 0],\n",
    "    },\n",
    "    index=[\"Amsterdam\", \"Tokyo\", \"Rotterdam\", \"Toronto\", \"Barcelona\"],\n",
    ")\n",
    "cities = pd.concat([all_city_data, city_countries], axis=1, sort=False)\n",
    "cities\n",
    "# Expected:\n",
    "# revenue  employee_count  country  capital\n",
    "# Amsterdam   4200.0             5.0  Holland      1.0\n",
    "# Tokyo       6500.0             8.0    Japan      1.0\n",
    "# Toronto     8000.0             NaN   Canada      0.0\n",
    "# New York    7000.0             2.0      NaN      NaN\n",
    "# Barcelona   3400.0             2.0    Spain      0.0\n",
    "# Rotterdam      NaN             NaN  Holland      0.0"
   ]
  },
  {
   "cell_type": "code",
   "execution_count": 88,
   "metadata": {},
   "outputs": [
    {
     "data": {
      "text/html": [
       "<div>\n",
       "<style scoped>\n",
       "    .dataframe tbody tr th:only-of-type {\n",
       "        vertical-align: middle;\n",
       "    }\n",
       "\n",
       "    .dataframe tbody tr th {\n",
       "        vertical-align: top;\n",
       "    }\n",
       "\n",
       "    .dataframe thead th {\n",
       "        text-align: right;\n",
       "    }\n",
       "</style>\n",
       "<table border=\"1\" class=\"dataframe\">\n",
       "  <thead>\n",
       "    <tr style=\"text-align: right;\">\n",
       "      <th></th>\n",
       "      <th>revenue</th>\n",
       "      <th>employee_count</th>\n",
       "      <th>country</th>\n",
       "      <th>capital</th>\n",
       "    </tr>\n",
       "  </thead>\n",
       "  <tbody>\n",
       "    <tr>\n",
       "      <th>Amsterdam</th>\n",
       "      <td>4200</td>\n",
       "      <td>5.0</td>\n",
       "      <td>Holland</td>\n",
       "      <td>1</td>\n",
       "    </tr>\n",
       "    <tr>\n",
       "      <th>Tokyo</th>\n",
       "      <td>6500</td>\n",
       "      <td>8.0</td>\n",
       "      <td>Japan</td>\n",
       "      <td>1</td>\n",
       "    </tr>\n",
       "    <tr>\n",
       "      <th>Toronto</th>\n",
       "      <td>8000</td>\n",
       "      <td>NaN</td>\n",
       "      <td>Canada</td>\n",
       "      <td>0</td>\n",
       "    </tr>\n",
       "    <tr>\n",
       "      <th>Barcelona</th>\n",
       "      <td>3400</td>\n",
       "      <td>2.0</td>\n",
       "      <td>Spain</td>\n",
       "      <td>0</td>\n",
       "    </tr>\n",
       "  </tbody>\n",
       "</table>\n",
       "</div>"
      ],
      "text/plain": [
       "           revenue  employee_count  country  capital\n",
       "Amsterdam     4200             5.0  Holland        1\n",
       "Tokyo         6500             8.0    Japan        1\n",
       "Toronto       8000             NaN   Canada        0\n",
       "Barcelona     3400             2.0    Spain        0"
      ]
     },
     "execution_count": 88,
     "metadata": {},
     "output_type": "execute_result"
    }
   ],
   "source": [
    "pd.concat([all_city_data, city_countries], axis=1, join=\"inner\")\n",
    "# Expected:\n",
    "# revenue  employee_count  country  capital\n",
    "# Amsterdam     4200             5.0  Holland        1\n",
    "# Tokyo         6500             8.0    Japan        1\n",
    "# Toronto       8000             NaN   Canada        0\n",
    "# Barcelona     3400             2.0    Spain        0"
   ]
  },
  {
   "cell_type": "markdown",
   "metadata": {},
   "source": [
    "### Combining Data Based on Arbitrary Columns With `merge()`"
   ]
  },
  {
   "cell_type": "code",
   "execution_count": 89,
   "metadata": {},
   "outputs": [
    {
     "data": {
      "text/html": [
       "<div>\n",
       "<style scoped>\n",
       "    .dataframe tbody tr th:only-of-type {\n",
       "        vertical-align: middle;\n",
       "    }\n",
       "\n",
       "    .dataframe tbody tr th {\n",
       "        vertical-align: top;\n",
       "    }\n",
       "\n",
       "    .dataframe thead th {\n",
       "        text-align: right;\n",
       "    }\n",
       "</style>\n",
       "<table border=\"1\" class=\"dataframe\">\n",
       "  <thead>\n",
       "    <tr style=\"text-align: right;\">\n",
       "      <th></th>\n",
       "      <th>revenue</th>\n",
       "      <th>employee_count</th>\n",
       "      <th>country</th>\n",
       "      <th>capital</th>\n",
       "      <th>population_millions</th>\n",
       "      <th>continent</th>\n",
       "    </tr>\n",
       "  </thead>\n",
       "  <tbody>\n",
       "    <tr>\n",
       "      <th>Amsterdam</th>\n",
       "      <td>4200.0</td>\n",
       "      <td>5.0</td>\n",
       "      <td>Holland</td>\n",
       "      <td>1.0</td>\n",
       "      <td>17</td>\n",
       "      <td>Europe</td>\n",
       "    </tr>\n",
       "    <tr>\n",
       "      <th>Rotterdam</th>\n",
       "      <td>NaN</td>\n",
       "      <td>NaN</td>\n",
       "      <td>Holland</td>\n",
       "      <td>0.0</td>\n",
       "      <td>17</td>\n",
       "      <td>Europe</td>\n",
       "    </tr>\n",
       "    <tr>\n",
       "      <th>Tokyo</th>\n",
       "      <td>6500.0</td>\n",
       "      <td>8.0</td>\n",
       "      <td>Japan</td>\n",
       "      <td>1.0</td>\n",
       "      <td>127</td>\n",
       "      <td>Asia</td>\n",
       "    </tr>\n",
       "    <tr>\n",
       "      <th>Toronto</th>\n",
       "      <td>8000.0</td>\n",
       "      <td>NaN</td>\n",
       "      <td>Canada</td>\n",
       "      <td>0.0</td>\n",
       "      <td>37</td>\n",
       "      <td>North America</td>\n",
       "    </tr>\n",
       "  </tbody>\n",
       "</table>\n",
       "</div>"
      ],
      "text/plain": [
       "           revenue  employee_count  country  capital  population_millions  \\\n",
       "Amsterdam   4200.0             5.0  Holland      1.0                   17   \n",
       "Rotterdam      NaN             NaN  Holland      0.0                   17   \n",
       "Tokyo       6500.0             8.0    Japan      1.0                  127   \n",
       "Toronto     8000.0             NaN   Canada      0.0                   37   \n",
       "\n",
       "               continent  \n",
       "Amsterdam         Europe  \n",
       "Rotterdam         Europe  \n",
       "Tokyo               Asia  \n",
       "Toronto    North America  "
      ]
     },
     "execution_count": 89,
     "metadata": {},
     "output_type": "execute_result"
    }
   ],
   "source": [
    "countries = pd.DataFrame(\n",
    "    {\n",
    "        \"population_millions\": [17, 127, 37],\n",
    "        \"continent\": [\"Europe\", \"Asia\", \"North America\"],\n",
    "    },\n",
    "    index=[\"Holland\", \"Japan\", \"Canada\"],\n",
    ")\n",
    "pd.merge(cities, countries, left_on=\"country\", right_index=True)"
   ]
  },
  {
   "cell_type": "code",
   "execution_count": 90,
   "metadata": {},
   "outputs": [
    {
     "data": {
      "text/html": [
       "<div>\n",
       "<style scoped>\n",
       "    .dataframe tbody tr th:only-of-type {\n",
       "        vertical-align: middle;\n",
       "    }\n",
       "\n",
       "    .dataframe tbody tr th {\n",
       "        vertical-align: top;\n",
       "    }\n",
       "\n",
       "    .dataframe thead th {\n",
       "        text-align: right;\n",
       "    }\n",
       "</style>\n",
       "<table border=\"1\" class=\"dataframe\">\n",
       "  <thead>\n",
       "    <tr style=\"text-align: right;\">\n",
       "      <th></th>\n",
       "      <th>revenue</th>\n",
       "      <th>employee_count</th>\n",
       "      <th>country</th>\n",
       "      <th>capital</th>\n",
       "      <th>population_millions</th>\n",
       "      <th>continent</th>\n",
       "    </tr>\n",
       "  </thead>\n",
       "  <tbody>\n",
       "    <tr>\n",
       "      <th>Amsterdam</th>\n",
       "      <td>4200.0</td>\n",
       "      <td>5.0</td>\n",
       "      <td>Holland</td>\n",
       "      <td>1.0</td>\n",
       "      <td>17.0</td>\n",
       "      <td>Europe</td>\n",
       "    </tr>\n",
       "    <tr>\n",
       "      <th>Tokyo</th>\n",
       "      <td>6500.0</td>\n",
       "      <td>8.0</td>\n",
       "      <td>Japan</td>\n",
       "      <td>1.0</td>\n",
       "      <td>127.0</td>\n",
       "      <td>Asia</td>\n",
       "    </tr>\n",
       "    <tr>\n",
       "      <th>Toronto</th>\n",
       "      <td>8000.0</td>\n",
       "      <td>NaN</td>\n",
       "      <td>Canada</td>\n",
       "      <td>0.0</td>\n",
       "      <td>37.0</td>\n",
       "      <td>North America</td>\n",
       "    </tr>\n",
       "    <tr>\n",
       "      <th>New York</th>\n",
       "      <td>7000.0</td>\n",
       "      <td>2.0</td>\n",
       "      <td>NaN</td>\n",
       "      <td>NaN</td>\n",
       "      <td>NaN</td>\n",
       "      <td>NaN</td>\n",
       "    </tr>\n",
       "    <tr>\n",
       "      <th>Barcelona</th>\n",
       "      <td>3400.0</td>\n",
       "      <td>2.0</td>\n",
       "      <td>Spain</td>\n",
       "      <td>0.0</td>\n",
       "      <td>NaN</td>\n",
       "      <td>NaN</td>\n",
       "    </tr>\n",
       "    <tr>\n",
       "      <th>Rotterdam</th>\n",
       "      <td>NaN</td>\n",
       "      <td>NaN</td>\n",
       "      <td>Holland</td>\n",
       "      <td>0.0</td>\n",
       "      <td>17.0</td>\n",
       "      <td>Europe</td>\n",
       "    </tr>\n",
       "  </tbody>\n",
       "</table>\n",
       "</div>"
      ],
      "text/plain": [
       "           revenue  employee_count  country  capital  population_millions  \\\n",
       "Amsterdam   4200.0             5.0  Holland      1.0                 17.0   \n",
       "Tokyo       6500.0             8.0    Japan      1.0                127.0   \n",
       "Toronto     8000.0             NaN   Canada      0.0                 37.0   \n",
       "New York    7000.0             2.0      NaN      NaN                  NaN   \n",
       "Barcelona   3400.0             2.0    Spain      0.0                  NaN   \n",
       "Rotterdam      NaN             NaN  Holland      0.0                 17.0   \n",
       "\n",
       "               continent  \n",
       "Amsterdam         Europe  \n",
       "Tokyo               Asia  \n",
       "Toronto    North America  \n",
       "New York             NaN  \n",
       "Barcelona            NaN  \n",
       "Rotterdam         Europe  "
      ]
     },
     "execution_count": 90,
     "metadata": {},
     "output_type": "execute_result"
    }
   ],
   "source": [
    "pd.merge(cities, countries, left_on=\"country\", right_index=True, how=\"left\")"
   ]
  },
  {
   "cell_type": "markdown",
   "metadata": {},
   "source": [
    "## Visualizing Your Pandas DataFrame"
   ]
  },
  {
   "cell_type": "code",
   "execution_count": 91,
   "metadata": {},
   "outputs": [],
   "source": [
    "%matplotlib inline"
   ]
  },
  {
   "cell_type": "code",
   "execution_count": 92,
   "metadata": {},
   "outputs": [
    {
     "data": {
      "text/plain": [
       "<AxesSubplot: xlabel='year_id'>"
      ]
     },
     "execution_count": 92,
     "metadata": {},
     "output_type": "execute_result"
    },
    {
     "data": {
      "image/png": "[encoded data removed]",
      "text/plain": [
       "<Figure size 640x480 with 1 Axes>"
      ]
     },
     "metadata": {},
     "output_type": "display_data"
    }
   ],
   "source": [
    "nba[nba[\"fran_id\"] == \"Knicks\"].groupby(\"year_id\")[\"pts\"].sum().plot()"
   ]
  },
  {
   "cell_type": "code",
   "execution_count": 93,
   "metadata": {},
   "outputs": [
    {
     "data": {
      "text/plain": [
       "<AxesSubplot: >"
      ]
     },
     "execution_count": 93,
     "metadata": {},
     "output_type": "execute_result"
    },
    {
     "data": {
      "image/png": "[encoded data removed]",
      "text/plain": [
       "<Figure size 640x480 with 1 Axes>"
      ]
     },
     "metadata": {},
     "output_type": "display_data"
    }
   ],
   "source": [
    "nba[\"fran_id\"].value_counts().head(10).plot(kind=\"bar\")"
   ]
  },
  {
   "cell_type": "markdown",
   "metadata": {},
   "source": [
    "#### Exercise\n",
    "\n",
    "In 2013, the Miami Heat won the championship. Create a pie plot showing the count of their wins and losses during that season."
   ]
  },
  {
   "cell_type": "markdown",
   "metadata": {},
   "source": [
    "## Conclusion and Further Resources"
   ]
  }
 ],
 "metadata": {
  "kernelspec": {
   "display_name": "Python 3.10.7 ('.venv': poetry)",
   "language": "python",
   "name": "python3"
  },
  "language": "python",
  "language_info": {
   "codemirror_mode": {
    "name": "ipython",
    "version": 3
   },
   "file_extension": ".py",
   "mimetype": "text/x-python",
   "name": "python",
   "nbconvert_exporter": "python",
   "pygments_lexer": "ipython3",
   "version": "3.10.7"
  },
  "vscode": {
   "interpreter": {
    "hash": "91e83fc76dfa4584dfb39642161ded55443b31c016965768db7cc96f9d1117c2"
   }
  }
 },
 "nbformat": 4,
 "nbformat_minor": 4
}
